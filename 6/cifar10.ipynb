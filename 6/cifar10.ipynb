{
  "cells": [
    {
      "cell_type": "markdown",
      "metadata": {
        "id": "2zvfPqSf5kVS"
      },
      "source": [
        "# Programming Assignment"
      ]
    },
    {
      "cell_type": "markdown",
      "metadata": {
        "id": "AoW97KwR5kVT"
      },
      "source": [
        "## CNN classifier for the MNIST dataset"
      ]
    },
    {
      "cell_type": "markdown",
      "metadata": {
        "id": "_b51WENk5kVU"
      },
      "source": []
    },
    {
      "cell_type": "code",
      "source": [
        "!pip install visualkeras"
      ],
      "metadata": {
        "colab": {
          "base_uri": "https://localhost:8080/"
        },
        "id": "CbQgyaItvpOC",
        "outputId": "78791dc5-e4b7-4778-dc05-a4aa036e57d7"
      },
      "execution_count": null,
      "outputs": [
        {
          "output_type": "stream",
          "name": "stdout",
          "text": [
            "Looking in indexes: https://pypi.org/simple, https://us-python.pkg.dev/colab-wheels/public/simple/\n",
            "Requirement already satisfied: visualkeras in /usr/local/lib/python3.8/dist-packages (0.0.2)\n",
            "Requirement already satisfied: numpy>=1.18.1 in /usr/local/lib/python3.8/dist-packages (from visualkeras) (1.21.6)\n",
            "Requirement already satisfied: aggdraw>=1.3.11 in /usr/local/lib/python3.8/dist-packages (from visualkeras) (1.3.15)\n",
            "Requirement already satisfied: pillow>=6.2.0 in /usr/local/lib/python3.8/dist-packages (from visualkeras) (7.1.2)\n"
          ]
        }
      ]
    },
    {
      "cell_type": "code",
      "execution_count": null,
      "metadata": {
        "id": "7OzZmeQG5kVU"
      },
      "outputs": [],
      "source": [
        "#### PACKAGE IMPORTS ####\n",
        "\n",
        "# Run this cell first to import all required packages. Do not make any imports elsewhere in the notebook\n",
        "\n",
        "from __future__ import print_function\n",
        "import keras\n",
        "from keras.datasets import cifar10\n",
        "from keras.preprocessing.image import ImageDataGenerator\n",
        "from keras.models import Sequential\n",
        "from keras.layers import Dense, Dropout, Activation, Flatten\n",
        "from keras.layers import Conv2D, MaxPooling2D\n",
        "import os\n",
        "import tensorflow as tf\n",
        "import visualkeras\n",
        "\n",
        "import numpy as np\n",
        "\n",
        "import seaborn as sns\n",
        "import matplotlib\n",
        "import matplotlib.pyplot as plt\n",
        "\n",
        "from sklearn.metrics import confusion_matrix, classification_report\n",
        "import itertools\n",
        "\n",
        "%matplotlib inline\n",
        "\n",
        "# If you would like to make further imports from Tensorflow, add them here\n",
        "\n"
      ]
    },
    {
      "cell_type": "markdown",
      "metadata": {
        "id": "62AKrQHF5kVW"
      },
      "source": [
        "#### Load and preprocess the data"
      ]
    },
    {
      "cell_type": "code",
      "execution_count": null,
      "metadata": {
        "id": "zkWQ-6fW5kVW",
        "colab": {
          "base_uri": "https://localhost:8080/"
        },
        "outputId": "774991eb-ef08-4855-dfee-af2cf7bf2134"
      },
      "outputs": [
        {
          "output_type": "stream",
          "name": "stdout",
          "text": [
            "x_train shape: (50000, 32, 32, 3)\n",
            "y_train shape: (50000, 1)\n",
            "50000 train samples\n",
            "10000 test samples\n"
          ]
        }
      ],
      "source": [
        "(x_train, y_train), (x_test, y_test) = cifar10.load_data()\n",
        "print('x_train shape:', x_train.shape)\n",
        "print('y_train shape:', y_train.shape)\n",
        "print(x_train.shape[0], 'train samples')\n",
        "print(x_test.shape[0], 'test samples')"
      ]
    },
    {
      "cell_type": "code",
      "source": [
        "batch_size = 32  # The default batch size of keras.\n",
        "num_classes = 10  # Number of class for the dataset\n",
        "epochs = 30"
      ],
      "metadata": {
        "id": "1ldmw1fsEXQN"
      },
      "execution_count": null,
      "outputs": []
    },
    {
      "cell_type": "markdown",
      "metadata": {
        "id": "RmqnMhfB5kVW"
      },
      "source": [
        "First, preprocess the data by scaling the training and test images so their values lie in the range from 0 to 1."
      ]
    },
    {
      "cell_type": "code",
      "execution_count": null,
      "metadata": {
        "id": "zH52w4cB5kVW"
      },
      "outputs": [],
      "source": [
        "def scale_data(x_train, x_test):\n",
        "    # Normalize the data. Before we need to connvert data type to float for computation.\n",
        "    x_train = x_train.astype('float32')\n",
        "    x_test = x_test.astype('float32')\n",
        "    x_train /= 255\n",
        "    x_test /= 255\n",
        "    return (x_train, x_test)"
      ]
    },
    {
      "cell_type": "code",
      "execution_count": null,
      "metadata": {
        "id": "3YKREybp5kVX"
      },
      "outputs": [],
      "source": [
        "# Run your function on the input data\n",
        "\n",
        "x_train, x_test = scale_data(x_train, x_test)"
      ]
    },
    {
      "cell_type": "code",
      "execution_count": null,
      "metadata": {
        "id": "nZ5q5pm55kVX"
      },
      "outputs": [],
      "source": [
        "# Convert class vectors to binary class matrices. This is called one hot encoding.\n",
        "y_train = keras.utils.to_categorical(y_train, num_classes)\n",
        "y_test = keras.utils.to_categorical(y_test, num_classes)"
      ]
    },
    {
      "cell_type": "markdown",
      "metadata": {
        "id": "bKejx92Y5kVX"
      },
      "source": [
        "#### Build the convolutional neural network model"
      ]
    },
    {
      "cell_type": "code",
      "execution_count": null,
      "metadata": {
        "id": "7jr1Wsim5kVX"
      },
      "outputs": [],
      "source": [
        "#### GRADED CELL ####\n",
        "\n",
        "# Complete the following function. \n",
        "# Make sure to not change the function name or arguments.\n",
        "\n",
        "def get_model(input_shape):\n",
        "    #define the convnet\n",
        "    model = Sequential()\n",
        "    model.add(Conv2D(32,(4,4),input_shape = (32,32,3),activation='relu'))\n",
        "    model.add(MaxPooling2D(pool_size = (2,2)))\n",
        "    model.add(Conv2D(32,(4,4),input_shape = (32,32,3),activation='relu'))\n",
        "    model.add(MaxPooling2D(pool_size = (2,2)))\n",
        "    model.add(Flatten())\n",
        "    model.add(Dense(128, activation ='relu'))\n",
        "    model.add(Dense(10, activation ='softmax'))\n",
        "\n",
        "    model.summary()\n",
        "    return model"
      ]
    },
    {
      "cell_type": "code",
      "execution_count": null,
      "metadata": {
        "id": "-QprdK9w5kVY",
        "colab": {
          "base_uri": "https://localhost:8080/"
        },
        "outputId": "a47f75c4-a178-4a5a-935d-6becba427909"
      },
      "outputs": [
        {
          "output_type": "stream",
          "name": "stdout",
          "text": [
            "Model: \"sequential\"\n",
            "_________________________________________________________________\n",
            " Layer (type)                Output Shape              Param #   \n",
            "=================================================================\n",
            " conv2d (Conv2D)             (None, 29, 29, 32)        1568      \n",
            "                                                                 \n",
            " max_pooling2d (MaxPooling2D  (None, 14, 14, 32)       0         \n",
            " )                                                               \n",
            "                                                                 \n",
            " conv2d_1 (Conv2D)           (None, 11, 11, 32)        16416     \n",
            "                                                                 \n",
            " max_pooling2d_1 (MaxPooling  (None, 5, 5, 32)         0         \n",
            " 2D)                                                             \n",
            "                                                                 \n",
            " flatten (Flatten)           (None, 800)               0         \n",
            "                                                                 \n",
            " dense (Dense)               (None, 128)               102528    \n",
            "                                                                 \n",
            " dense_1 (Dense)             (None, 10)                1290      \n",
            "                                                                 \n",
            "=================================================================\n",
            "Total params: 121,802\n",
            "Trainable params: 121,802\n",
            "Non-trainable params: 0\n",
            "_________________________________________________________________\n"
          ]
        }
      ],
      "source": [
        "# Run your function to get the model\n",
        "\n",
        "model = get_model(x_train.shape[1:])"
      ]
    },
    {
      "cell_type": "markdown",
      "metadata": {
        "id": "jwBFQnFc5kVY"
      },
      "source": [
        "#### Compile the model\n",
        "\n",
        "You should now compile the model using the `compile` method. To do so, you need to specify an optimizer, a loss function and a metric to judge the performance of your model."
      ]
    },
    {
      "cell_type": "code",
      "execution_count": null,
      "metadata": {
        "id": "CSNXvSQe5kVY"
      },
      "outputs": [],
      "source": [
        "#### GRADED CELL ####\n",
        "\n",
        "# Complete the following function. \n",
        "# Make sure to not change the function name or arguments.\n",
        "\n",
        "def compile_model(model):\n",
        "    \"\"\"\n",
        "    This function takes in the model returned from your get_model function, and compiles it with an optimiser,\n",
        "    loss function and metric.\n",
        "    Compile the model using the Adam optimiser (with default settings), the cross-entropy loss function and\n",
        "    accuracy as the only metric. \n",
        "    Your function doesn't need to return anything; the model will be compiled in-place.\n",
        "    \"\"\"\n",
        "    model.compile(loss ='categorical_crossentropy', optimizer ='adam', metrics =['accuracy'])\n",
        "\n",
        "\n",
        "    "
      ]
    },
    {
      "cell_type": "code",
      "execution_count": null,
      "metadata": {
        "id": "KEHsYMij5kVY"
      },
      "outputs": [],
      "source": [
        "# Run your function to compile the model\n",
        "\n",
        "compile_model(model)"
      ]
    },
    {
      "cell_type": "markdown",
      "metadata": {
        "id": "a5adIsia5kVY"
      },
      "source": [
        "#### Fit the model to the training data\n",
        "\n",
        "Now you should train the model on the dataset, using the model's `fit` method. Set the training to run for 5 epochs, and return the training history to be used for plotting the learning curves."
      ]
    },
    {
      "cell_type": "code",
      "execution_count": null,
      "metadata": {
        "id": "o8894HJE5kVZ"
      },
      "outputs": [],
      "source": [
        "#### GRADED CELL ####\n",
        "\n",
        "# Complete the following function. \n",
        "# Make sure to not change the function name or arguments.\n",
        "\n",
        "def train_model(model, x_train, y_train):\n",
        "    \"\"\"\n",
        "    This function should train the model for 5 epochs on the scaled_train_images and train_labels. \n",
        "    Your function should return the training history, as returned by model.fit.\n",
        "    \"\"\"\n",
        "    return model.fit(x_train, y_train, batch_size=batch_size, epochs=epochs, validation_data=(x_test, y_test), shuffle=True)\n",
        "  \n",
        "    "
      ]
    },
    {
      "cell_type": "code",
      "execution_count": null,
      "metadata": {
        "colab": {
          "base_uri": "https://localhost:8080/"
        },
        "id": "Yp5UrjxB5kVZ",
        "outputId": "517bbb23-642f-4b3a-842a-c5518f242b1b"
      },
      "outputs": [
        {
          "output_type": "stream",
          "name": "stdout",
          "text": [
            "Epoch 1/30\n",
            "1563/1563 [==============================] - 13s 7ms/step - loss: 1.5326 - accuracy: 0.4466 - val_loss: 1.2926 - val_accuracy: 0.5356\n",
            "Epoch 2/30\n",
            "1563/1563 [==============================] - 11s 7ms/step - loss: 1.2083 - accuracy: 0.5708 - val_loss: 1.2163 - val_accuracy: 0.5764\n",
            "Epoch 3/30\n",
            "1563/1563 [==============================] - 8s 5ms/step - loss: 1.0764 - accuracy: 0.6221 - val_loss: 1.0838 - val_accuracy: 0.6158\n",
            "Epoch 4/30\n",
            "1563/1563 [==============================] - 8s 5ms/step - loss: 0.9803 - accuracy: 0.6573 - val_loss: 0.9961 - val_accuracy: 0.6575\n",
            "Epoch 5/30\n",
            "1563/1563 [==============================] - 7s 4ms/step - loss: 0.9048 - accuracy: 0.6823 - val_loss: 1.0444 - val_accuracy: 0.6391\n",
            "Epoch 6/30\n",
            "1563/1563 [==============================] - 8s 5ms/step - loss: 0.8450 - accuracy: 0.7034 - val_loss: 0.9830 - val_accuracy: 0.6653\n",
            "Epoch 7/30\n",
            "1563/1563 [==============================] - 8s 5ms/step - loss: 0.7869 - accuracy: 0.7241 - val_loss: 0.9871 - val_accuracy: 0.6596\n",
            "Epoch 8/30\n",
            "1563/1563 [==============================] - 7s 4ms/step - loss: 0.7412 - accuracy: 0.7394 - val_loss: 0.9630 - val_accuracy: 0.6686\n",
            "Epoch 9/30\n",
            "1563/1563 [==============================] - 7s 5ms/step - loss: 0.6994 - accuracy: 0.7553 - val_loss: 0.9893 - val_accuracy: 0.6743\n",
            "Epoch 10/30\n",
            "1563/1563 [==============================] - 7s 4ms/step - loss: 0.6597 - accuracy: 0.7681 - val_loss: 0.9824 - val_accuracy: 0.6776\n",
            "Epoch 11/30\n",
            "1563/1563 [==============================] - 7s 5ms/step - loss: 0.6271 - accuracy: 0.7797 - val_loss: 1.0410 - val_accuracy: 0.6701\n",
            "Epoch 12/30\n",
            "1563/1563 [==============================] - 7s 5ms/step - loss: 0.5902 - accuracy: 0.7928 - val_loss: 1.0289 - val_accuracy: 0.6765\n",
            "Epoch 13/30\n",
            "1563/1563 [==============================] - 8s 5ms/step - loss: 0.5616 - accuracy: 0.8032 - val_loss: 1.0936 - val_accuracy: 0.6702\n",
            "Epoch 14/30\n",
            "1563/1563 [==============================] - 8s 5ms/step - loss: 0.5355 - accuracy: 0.8103 - val_loss: 1.0613 - val_accuracy: 0.6795\n",
            "Epoch 15/30\n",
            "1563/1563 [==============================] - 7s 4ms/step - loss: 0.5056 - accuracy: 0.8205 - val_loss: 1.1449 - val_accuracy: 0.6631\n",
            "Epoch 16/30\n",
            "1563/1563 [==============================] - 7s 5ms/step - loss: 0.4758 - accuracy: 0.8301 - val_loss: 1.1597 - val_accuracy: 0.6635\n",
            "Epoch 17/30\n",
            "1563/1563 [==============================] - 7s 5ms/step - loss: 0.4530 - accuracy: 0.8391 - val_loss: 1.2003 - val_accuracy: 0.6653\n",
            "Epoch 18/30\n",
            "1563/1563 [==============================] - 8s 5ms/step - loss: 0.4309 - accuracy: 0.8475 - val_loss: 1.2848 - val_accuracy: 0.6585\n",
            "Epoch 19/30\n",
            "1563/1563 [==============================] - 8s 5ms/step - loss: 0.4034 - accuracy: 0.8575 - val_loss: 1.3100 - val_accuracy: 0.6594\n",
            "Epoch 20/30\n",
            "1563/1563 [==============================] - 8s 5ms/step - loss: 0.3872 - accuracy: 0.8616 - val_loss: 1.3571 - val_accuracy: 0.6523\n",
            "Epoch 21/30\n",
            "1563/1563 [==============================] - 7s 4ms/step - loss: 0.3651 - accuracy: 0.8702 - val_loss: 1.3944 - val_accuracy: 0.6564\n",
            "Epoch 22/30\n",
            "1563/1563 [==============================] - 8s 5ms/step - loss: 0.3413 - accuracy: 0.8777 - val_loss: 1.4933 - val_accuracy: 0.6500\n",
            "Epoch 23/30\n",
            "1563/1563 [==============================] - 8s 5ms/step - loss: 0.3259 - accuracy: 0.8827 - val_loss: 1.5388 - val_accuracy: 0.6372\n",
            "Epoch 24/30\n",
            "1563/1563 [==============================] - 7s 5ms/step - loss: 0.3084 - accuracy: 0.8899 - val_loss: 1.5992 - val_accuracy: 0.6340\n",
            "Epoch 25/30\n",
            "1563/1563 [==============================] - 7s 5ms/step - loss: 0.2940 - accuracy: 0.8946 - val_loss: 1.6190 - val_accuracy: 0.6498\n",
            "Epoch 26/30\n",
            "1563/1563 [==============================] - 7s 4ms/step - loss: 0.2822 - accuracy: 0.8985 - val_loss: 1.6679 - val_accuracy: 0.6513\n",
            "Epoch 27/30\n",
            "1563/1563 [==============================] - 7s 4ms/step - loss: 0.2650 - accuracy: 0.9043 - val_loss: 1.7675 - val_accuracy: 0.6407\n",
            "Epoch 28/30\n",
            "1563/1563 [==============================] - 8s 5ms/step - loss: 0.2478 - accuracy: 0.9119 - val_loss: 1.8497 - val_accuracy: 0.6481\n",
            "Epoch 29/30\n",
            "1563/1563 [==============================] - 7s 5ms/step - loss: 0.2365 - accuracy: 0.9159 - val_loss: 1.9001 - val_accuracy: 0.6468\n",
            "Epoch 30/30\n",
            "1563/1563 [==============================] - 7s 5ms/step - loss: 0.2298 - accuracy: 0.9164 - val_loss: 1.9412 - val_accuracy: 0.6530\n"
          ]
        }
      ],
      "source": [
        "# Run your function to train the model\n",
        "\n",
        "history = model.fit(x_train, y_train, batch_size=batch_size, epochs=epochs, validation_data=(x_test, y_test), shuffle=True)"
      ]
    },
    {
      "cell_type": "code",
      "source": [
        "visualkeras.layered_view(model, legend=True)"
      ],
      "metadata": {
        "colab": {
          "base_uri": "https://localhost:8080/",
          "height": 234
        },
        "id": "zkD1TSf5TkgY",
        "outputId": "2b38df4c-c93b-4b85-9a86-e7d4e7f27109"
      },
      "execution_count": null,
      "outputs": [
        {
          "output_type": "execute_result",
          "data": {
            "text/plain": [
              "<PIL.Image.Image image mode=RGBA size=303x217 at 0x7F717008FD00>"
            ],
            "image/png": "[encoded data removed]"
          },
          "metadata": {},
          "execution_count": 14
        }
      ]
    },
    {
      "cell_type": "markdown",
      "metadata": {
        "id": "3XszbwU85kVZ"
      },
      "source": [
        "#### Plot the learning curves\n"
      ]
    },
    {
      "cell_type": "code",
      "source": [
        "def plotloss(history):\n",
        "  plt.plot(history.history['loss'])\n",
        "  plt.plot(history.history['val_loss'])\n",
        "  plt.plot(history.history['accuracy'])\n",
        "  plt.xlabel('Epochs')\n",
        "  plt.ylabel('Loss')\n",
        "  plt.legend(['Train', 'Validation', 'Accuracy'])\n",
        "  plt.show() \n",
        "plotloss(history)  "
      ],
      "metadata": {
        "colab": {
          "base_uri": "https://localhost:8080/",
          "height": 280
        },
        "id": "Dc-UZeirS7z0",
        "outputId": "fa8b3b5a-f063-42fd-a971-d91b4465d055"
      },
      "execution_count": null,
      "outputs": [
        {
          "output_type": "display_data",
          "data": {
            "text/plain": [
              "<Figure size 432x288 with 1 Axes>"
            ],
            "image/png": "[encoded data removed]"
          },
          "metadata": {
            "needs_background": "light"
          }
        }
      ]
    },
    {
      "cell_type": "markdown",
      "metadata": {
        "id": "fCYZror95kVa"
      },
      "source": [
        "#### Evaluate the model\n",
        "\n",
        "Finally, you should evaluate the performance of your model on the test set, by calling the model's `evaluate` method."
      ]
    },
    {
      "cell_type": "code",
      "execution_count": null,
      "metadata": {
        "id": "_gebgD3i5kVa"
      },
      "outputs": [],
      "source": [
        "#### GRADED CELL ####\n",
        "\n",
        "# Complete the following function. \n",
        "# Make sure to not change the function name or arguments.\n",
        "\n",
        "def evaluate_model(model, x_test, y_test):\n",
        "    \"\"\"\n",
        "    This function should evaluate the model on the scaled_test_images and test_labels. \n",
        "    Your function should return a tuple (test_loss, test_accuracy).\n",
        "    \"\"\"\n",
        "    return model.evaluate(x_test, y_test)\n",
        "  "
      ]
    },
    {
      "cell_type": "code",
      "execution_count": null,
      "metadata": {
        "colab": {
          "base_uri": "https://localhost:8080/"
        },
        "id": "K_M-NuNN5kVa",
        "outputId": "fca42e74-c4de-49f5-d534-8e9a9543093b"
      },
      "outputs": [
        {
          "output_type": "stream",
          "name": "stdout",
          "text": [
            "313/313 [==============================] - 1s 3ms/step - loss: 1.9412 - accuracy: 0.6530\n",
            "Test loss: 1.9411896467208862\n",
            "Test accuracy: 0.652999997138977\n"
          ]
        }
      ],
      "source": [
        "# Run your function to evaluate the model\n",
        "\n",
        "test_loss, test_accuracy = evaluate_model(model, x_test, y_test)\n",
        "print(f\"Test loss: {test_loss}\")\n",
        "print(f\"Test accuracy: {test_accuracy}\")"
      ]
    },
    {
      "cell_type": "markdown",
      "source": [
        "#### Second model with more layers"
      ],
      "metadata": {
        "id": "5uTpPv83bIKa"
      }
    },
    {
      "cell_type": "code",
      "execution_count": null,
      "metadata": {
        "id": "Tm0dYKmu5kVb"
      },
      "outputs": [],
      "source": [
        "def get_model2(input_shape):\n",
        "    # Model_2 with more filters\n",
        "    model_2 = Sequential()\n",
        "    model_2.add(Conv2D(64,(4,4),input_shape=(32,32,3),activation='relu'))\n",
        "    model_2.add(Conv2D(64,(4,4),input_shape=(32,32,3),activation='relu'))\n",
        "    model_2.add(MaxPooling2D(pool_size=(2,2)))\n",
        "    model_2.add(Dropout(0.4)) \n",
        "    model_2.add(Conv2D(128,(4,4),input_shape=(32,32,3),activation='relu'))\n",
        "    model_2.add(Conv2D(128,(4,4),input_shape=(32,32,3),activation='relu'))\n",
        "    model_2.add(MaxPooling2D(pool_size=(2,2)))\n",
        "    model_2.add(Dropout(0.4))\n",
        "    model_2.add(Flatten())\n",
        "    model_2.add(Dense(1024,activation='relu'))\n",
        "    model_2.add(Dense(1024,activation='relu'))\n",
        "    model_2.add(Dense(units =10  , activation = 'softmax'))\n",
        "\n",
        "    model_2.summary()\n",
        "    return model_2"
      ]
    },
    {
      "cell_type": "code",
      "execution_count": null,
      "metadata": {
        "id": "VzROuJga5kVb",
        "colab": {
          "base_uri": "https://localhost:8080/"
        },
        "outputId": "c3ff953b-3c6a-4b99-9d0c-064613918b7a"
      },
      "outputs": [
        {
          "output_type": "stream",
          "name": "stdout",
          "text": [
            "Model: \"sequential_1\"\n",
            "_________________________________________________________________\n",
            " Layer (type)                Output Shape              Param #   \n",
            "=================================================================\n",
            " conv2d_2 (Conv2D)           (None, 29, 29, 64)        3136      \n",
            "                                                                 \n",
            " conv2d_3 (Conv2D)           (None, 26, 26, 64)        65600     \n",
            "                                                                 \n",
            " max_pooling2d_2 (MaxPooling  (None, 13, 13, 64)       0         \n",
            " 2D)                                                             \n",
            "                                                                 \n",
            " dropout (Dropout)           (None, 13, 13, 64)        0         \n",
            "                                                                 \n",
            " conv2d_4 (Conv2D)           (None, 10, 10, 128)       131200    \n",
            "                                                                 \n",
            " conv2d_5 (Conv2D)           (None, 7, 7, 128)         262272    \n",
            "                                                                 \n",
            " max_pooling2d_3 (MaxPooling  (None, 3, 3, 128)        0         \n",
            " 2D)                                                             \n",
            "                                                                 \n",
            " dropout_1 (Dropout)         (None, 3, 3, 128)         0         \n",
            "                                                                 \n",
            " flatten_1 (Flatten)         (None, 1152)              0         \n",
            "                                                                 \n",
            " dense_2 (Dense)             (None, 1024)              1180672   \n",
            "                                                                 \n",
            " dense_3 (Dense)             (None, 1024)              1049600   \n",
            "                                                                 \n",
            " dense_4 (Dense)             (None, 10)                10250     \n",
            "                                                                 \n",
            "=================================================================\n",
            "Total params: 2,702,730\n",
            "Trainable params: 2,702,730\n",
            "Non-trainable params: 0\n",
            "_________________________________________________________________\n"
          ]
        }
      ],
      "source": [
        "model2 = get_model2(x_train.shape[1:])"
      ]
    },
    {
      "cell_type": "code",
      "execution_count": null,
      "metadata": {
        "id": "ixp6Uf-l5kVb"
      },
      "outputs": [],
      "source": [
        "compile_model(model2)"
      ]
    },
    {
      "cell_type": "code",
      "execution_count": null,
      "metadata": {
        "id": "W8TAttt-5kVb",
        "colab": {
          "base_uri": "https://localhost:8080/"
        },
        "outputId": "15604986-e06b-459b-f327-967a13b887bb"
      },
      "outputs": [
        {
          "output_type": "stream",
          "name": "stdout",
          "text": [
            "Epoch 1/30\n",
            "1563/1563 [==============================] - 15s 9ms/step - loss: 1.6970 - accuracy: 0.3639 - val_loss: 1.4881 - val_accuracy: 0.4640\n",
            "Epoch 2/30\n",
            "1563/1563 [==============================] - 14s 9ms/step - loss: 1.4056 - accuracy: 0.4899 - val_loss: 1.2682 - val_accuracy: 0.5417\n",
            "Epoch 3/30\n",
            "1563/1563 [==============================] - 14s 9ms/step - loss: 1.2769 - accuracy: 0.5436 - val_loss: 1.1607 - val_accuracy: 0.5921\n",
            "Epoch 4/30\n",
            "1563/1563 [==============================] - 14s 9ms/step - loss: 1.1761 - accuracy: 0.5799 - val_loss: 1.0784 - val_accuracy: 0.6161\n",
            "Epoch 5/30\n",
            "1563/1563 [==============================] - 14s 9ms/step - loss: 1.1122 - accuracy: 0.6058 - val_loss: 1.0438 - val_accuracy: 0.6297\n",
            "Epoch 6/30\n",
            "1563/1563 [==============================] - 13s 9ms/step - loss: 1.0528 - accuracy: 0.6273 - val_loss: 0.9900 - val_accuracy: 0.6558\n",
            "Epoch 7/30\n",
            "1563/1563 [==============================] - 14s 9ms/step - loss: 1.0041 - accuracy: 0.6471 - val_loss: 0.9640 - val_accuracy: 0.6654\n",
            "Epoch 8/30\n",
            "1563/1563 [==============================] - 14s 9ms/step - loss: 0.9727 - accuracy: 0.6562 - val_loss: 0.9165 - val_accuracy: 0.6826\n",
            "Epoch 9/30\n",
            "1563/1563 [==============================] - 13s 8ms/step - loss: 0.9431 - accuracy: 0.6700 - val_loss: 0.9205 - val_accuracy: 0.6794\n",
            "Epoch 10/30\n",
            "1563/1563 [==============================] - 13s 9ms/step - loss: 0.9129 - accuracy: 0.6780 - val_loss: 0.9215 - val_accuracy: 0.6836\n",
            "Epoch 11/30\n",
            "1563/1563 [==============================] - 13s 8ms/step - loss: 0.8900 - accuracy: 0.6871 - val_loss: 0.8880 - val_accuracy: 0.6965\n",
            "Epoch 12/30\n",
            "1563/1563 [==============================] - 13s 8ms/step - loss: 0.8764 - accuracy: 0.6907 - val_loss: 0.8625 - val_accuracy: 0.7022\n",
            "Epoch 13/30\n",
            "1563/1563 [==============================] - 13s 9ms/step - loss: 0.8537 - accuracy: 0.7014 - val_loss: 0.8797 - val_accuracy: 0.6969\n",
            "Epoch 14/30\n",
            "1563/1563 [==============================] - 13s 9ms/step - loss: 0.8402 - accuracy: 0.7059 - val_loss: 0.8952 - val_accuracy: 0.6874\n",
            "Epoch 15/30\n",
            "1563/1563 [==============================] - 13s 8ms/step - loss: 0.8306 - accuracy: 0.7071 - val_loss: 0.8563 - val_accuracy: 0.7084\n",
            "Epoch 16/30\n",
            "1563/1563 [==============================] - 13s 9ms/step - loss: 0.8135 - accuracy: 0.7149 - val_loss: 0.8870 - val_accuracy: 0.6973\n",
            "Epoch 17/30\n",
            "1563/1563 [==============================] - 15s 10ms/step - loss: 0.8045 - accuracy: 0.7192 - val_loss: 0.8729 - val_accuracy: 0.7028\n",
            "Epoch 18/30\n",
            "1563/1563 [==============================] - 13s 8ms/step - loss: 0.7919 - accuracy: 0.7240 - val_loss: 0.8765 - val_accuracy: 0.7005\n",
            "Epoch 19/30\n",
            "1563/1563 [==============================] - 13s 8ms/step - loss: 0.7814 - accuracy: 0.7264 - val_loss: 0.8110 - val_accuracy: 0.7234\n",
            "Epoch 20/30\n",
            "1563/1563 [==============================] - 13s 8ms/step - loss: 0.7690 - accuracy: 0.7306 - val_loss: 0.8040 - val_accuracy: 0.7239\n",
            "Epoch 21/30\n",
            "1563/1563 [==============================] - 13s 9ms/step - loss: 0.7596 - accuracy: 0.7324 - val_loss: 0.8000 - val_accuracy: 0.7222\n",
            "Epoch 22/30\n",
            "1563/1563 [==============================] - 13s 8ms/step - loss: 0.7463 - accuracy: 0.7402 - val_loss: 0.8224 - val_accuracy: 0.7239\n",
            "Epoch 23/30\n",
            "1563/1563 [==============================] - 13s 8ms/step - loss: 0.7385 - accuracy: 0.7420 - val_loss: 0.8791 - val_accuracy: 0.7108\n",
            "Epoch 24/30\n",
            "1563/1563 [==============================] - 13s 8ms/step - loss: 0.7368 - accuracy: 0.7438 - val_loss: 0.7841 - val_accuracy: 0.7341\n",
            "Epoch 25/30\n",
            "1563/1563 [==============================] - 13s 9ms/step - loss: 0.7160 - accuracy: 0.7524 - val_loss: 0.7883 - val_accuracy: 0.7283\n",
            "Epoch 26/30\n",
            "1563/1563 [==============================] - 13s 9ms/step - loss: 0.7135 - accuracy: 0.7525 - val_loss: 0.7868 - val_accuracy: 0.7312\n",
            "Epoch 27/30\n",
            "1563/1563 [==============================] - 13s 9ms/step - loss: 0.7122 - accuracy: 0.7534 - val_loss: 0.7639 - val_accuracy: 0.7471\n",
            "Epoch 28/30\n",
            "1563/1563 [==============================] - 13s 9ms/step - loss: 0.6992 - accuracy: 0.7557 - val_loss: 0.8043 - val_accuracy: 0.7291\n",
            "Epoch 29/30\n",
            "1563/1563 [==============================] - 13s 9ms/step - loss: 0.6843 - accuracy: 0.7630 - val_loss: 0.7943 - val_accuracy: 0.7326\n",
            "Epoch 30/30\n",
            "1563/1563 [==============================] - 14s 9ms/step - loss: 0.6872 - accuracy: 0.7629 - val_loss: 0.8205 - val_accuracy: 0.7219\n"
          ]
        }
      ],
      "source": [
        "history2 = train_model(model2, x_train, y_train)"
      ]
    },
    {
      "cell_type": "code",
      "execution_count": null,
      "metadata": {
        "id": "ghOcZMds5kVb",
        "colab": {
          "base_uri": "https://localhost:8080/",
          "height": 208
        },
        "outputId": "735ca1da-26d8-4f25-f3cf-a4e695cb2b2d"
      },
      "outputs": [
        {
          "output_type": "execute_result",
          "data": {
            "text/plain": [
              "<PIL.Image.Image image mode=RGBA size=653x191 at 0x7F71140CDF70>"
            ],
            "image/png": "[encoded data removed]"
          },
          "metadata": {},
          "execution_count": 22
        }
      ],
      "source": [
        "visualkeras.layered_view(model2, legend=True)"
      ]
    },
    {
      "cell_type": "code",
      "execution_count": null,
      "metadata": {
        "id": "MYqOA0BF5kVb",
        "colab": {
          "base_uri": "https://localhost:8080/",
          "height": 279
        },
        "outputId": "f7e5fbe9-f058-4b7c-c688-0d0e922b3fc7"
      },
      "outputs": [
        {
          "output_type": "display_data",
          "data": {
            "text/plain": [
              "<Figure size 432x288 with 1 Axes>"
            ],
            "image/png": "[encoded data removed]"
          },
          "metadata": {
            "needs_background": "light"
          }
        }
      ],
      "source": [
        "plotloss(history2)  "
      ]
    },
    {
      "cell_type": "code",
      "source": [
        "test_loss2, test_accuracy2 = evaluate_model(model2, x_test, y_test)\n",
        "print(f\"Test loss: {test_loss2}\")\n",
        "print(f\"Test accuracy: {test_accuracy2}\")"
      ],
      "metadata": {
        "colab": {
          "base_uri": "https://localhost:8080/"
        },
        "id": "VlMmVtXlXsnZ",
        "outputId": "7705176a-d408-4d8a-8d3f-88b80e7b5a4c"
      },
      "execution_count": null,
      "outputs": [
        {
          "output_type": "stream",
          "name": "stdout",
          "text": [
            "313/313 [==============================] - 1s 4ms/step - loss: 0.8205 - accuracy: 0.7219\n",
            "Test loss: 0.8205355405807495\n",
            "Test accuracy: 0.7218999862670898\n"
          ]
        }
      ]
    },
    {
      "cell_type": "code",
      "source": [],
      "metadata": {
        "id": "hh5GGD5VXsqf"
      },
      "execution_count": null,
      "outputs": []
    },
    {
      "cell_type": "code",
      "source": [],
      "metadata": {
        "id": "W6t6HSuJXstl"
      },
      "execution_count": null,
      "outputs": []
    },
    {
      "cell_type": "code",
      "source": [],
      "metadata": {
        "id": "TfytkV0EXsws"
      },
      "execution_count": null,
      "outputs": []
    }
  ],
  "metadata": {
    "coursera": {
      "course_slug": "tensor-flow-2-1",
      "graded_item_id": "g0YqY",
      "launcher_item_id": "N6gmY"
    },
    "kernelspec": {
      "display_name": "Python 3 (ipykernel)",
      "language": "python",
      "name": "python3"
    },
    "language_info": {
      "codemirror_mode": {
        "name": "ipython",
        "version": 3
      },
      "file_extension": ".py",
      "mimetype": "text/x-python",
      "name": "python",
      "nbconvert_exporter": "python",
      "pygments_lexer": "ipython3",
      "version": "3.9.13"
    },
    "colab": {
      "provenance": []
    },
    "accelerator": "GPU",
    "gpuClass": "standard"
  },
  "nbformat": 4,
  "nbformat_minor": 0
}