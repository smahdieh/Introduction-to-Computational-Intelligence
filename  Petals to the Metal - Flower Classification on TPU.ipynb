{
 "cells": [
  {
   "cell_type": "code",
   "execution_count": 1,
   "id": "c8635224",
   "metadata": {
    "_cell_guid": "b1076dfc-b9ad-4769-8c92-a6c4dae69d19",
    "_uuid": "8f2839f25d086af736a60e9eeb907d3b93b6e0e5",
    "execution": {
     "iopub.execute_input": "2023-01-14T23:03:29.476399Z",
     "iopub.status.busy": "2023-01-14T23:03:29.474603Z",
     "iopub.status.idle": "2023-01-14T23:03:29.575516Z",
     "shell.execute_reply": "2023-01-14T23:03:29.574209Z",
     "shell.execute_reply.started": "2023-01-14T18:07:40.619613Z"
    },
    "papermill": {
     "duration": 0.128855,
     "end_time": "2023-01-14T23:03:29.575821",
     "exception": false,
     "start_time": "2023-01-14T23:03:29.446966",
     "status": "completed"
    },
    "tags": []
   },
   "outputs": [
    {
     "name": "stdout",
     "output_type": "stream",
     "text": [
      "/kaggle/input/tpu-getting-started/sample_submission.csv\n",
      "/kaggle/input/tpu-getting-started/tfrecords-jpeg-224x224/val/09-224x224-232.tfrec\n",
      "/kaggle/input/tpu-getting-started/tfrecords-jpeg-224x224/val/14-224x224-232.tfrec\n",
      "/kaggle/input/tpu-getting-started/tfrecords-jpeg-224x224/val/01-224x224-232.tfrec\n",
      "/kaggle/input/tpu-getting-started/tfrecords-jpeg-224x224/val/13-224x224-232.tfrec\n",
      "/kaggle/input/tpu-getting-started/tfrecords-jpeg-224x224/val/00-224x224-232.tfrec\n",
      "/kaggle/input/tpu-getting-started/tfrecords-jpeg-224x224/val/07-224x224-232.tfrec\n",
      "/kaggle/input/tpu-getting-started/tfrecords-jpeg-224x224/val/12-224x224-232.tfrec\n",
      "/kaggle/input/tpu-getting-started/tfrecords-jpeg-224x224/val/11-224x224-232.tfrec\n",
      "/kaggle/input/tpu-getting-started/tfrecords-jpeg-224x224/val/05-224x224-232.tfrec\n",
      "/kaggle/input/tpu-getting-started/tfrecords-jpeg-224x224/val/04-224x224-232.tfrec\n",
      "/kaggle/input/tpu-getting-started/tfrecords-jpeg-224x224/val/15-224x224-232.tfrec\n",
      "/kaggle/input/tpu-getting-started/tfrecords-jpeg-224x224/val/06-224x224-232.tfrec\n",
      "/kaggle/input/tpu-getting-started/tfrecords-jpeg-224x224/val/02-224x224-232.tfrec\n",
      "/kaggle/input/tpu-getting-started/tfrecords-jpeg-224x224/val/03-224x224-232.tfrec\n",
      "/kaggle/input/tpu-getting-started/tfrecords-jpeg-224x224/val/08-224x224-232.tfrec\n",
      "/kaggle/input/tpu-getting-started/tfrecords-jpeg-224x224/val/10-224x224-232.tfrec\n",
      "/kaggle/input/tpu-getting-started/tfrecords-jpeg-224x224/test/04-224x224-462.tfrec\n",
      "/kaggle/input/tpu-getting-started/tfrecords-jpeg-224x224/test/06-224x224-462.tfrec\n",
      "/kaggle/input/tpu-getting-started/tfrecords-jpeg-224x224/test/05-224x224-462.tfrec\n",
      "/kaggle/input/tpu-getting-started/tfrecords-jpeg-224x224/test/08-224x224-462.tfrec\n",
      "/kaggle/input/tpu-getting-started/tfrecords-jpeg-224x224/test/15-224x224-452.tfrec\n",
      "/kaggle/input/tpu-getting-started/tfrecords-jpeg-224x224/test/09-224x224-462.tfrec\n",
      "/kaggle/input/tpu-getting-started/tfrecords-jpeg-224x224/test/10-224x224-462.tfrec\n",
      "/kaggle/input/tpu-getting-started/tfrecords-jpeg-224x224/test/07-224x224-462.tfrec\n",
      "/kaggle/input/tpu-getting-started/tfrecords-jpeg-224x224/test/00-224x224-462.tfrec\n",
      "/kaggle/input/tpu-getting-started/tfrecords-jpeg-224x224/test/01-224x224-462.tfrec\n",
      "/kaggle/input/tpu-getting-started/tfrecords-jpeg-224x224/test/12-224x224-462.tfrec\n",
      "/kaggle/input/tpu-getting-started/tfrecords-jpeg-224x224/test/14-224x224-462.tfrec\n",
      "/kaggle/input/tpu-getting-started/tfrecords-jpeg-224x224/test/03-224x224-462.tfrec\n",
      "/kaggle/input/tpu-getting-started/tfrecords-jpeg-224x224/test/02-224x224-462.tfrec\n",
      "/kaggle/input/tpu-getting-started/tfrecords-jpeg-224x224/test/11-224x224-462.tfrec\n",
      "/kaggle/input/tpu-getting-started/tfrecords-jpeg-224x224/test/13-224x224-462.tfrec\n",
      "/kaggle/input/tpu-getting-started/tfrecords-jpeg-224x224/train/13-224x224-798.tfrec\n",
      "/kaggle/input/tpu-getting-started/tfrecords-jpeg-224x224/train/11-224x224-798.tfrec\n",
      "/kaggle/input/tpu-getting-started/tfrecords-jpeg-224x224/train/05-224x224-798.tfrec\n",
      "/kaggle/input/tpu-getting-started/tfrecords-jpeg-224x224/train/00-224x224-798.tfrec\n",
      "/kaggle/input/tpu-getting-started/tfrecords-jpeg-224x224/train/02-224x224-798.tfrec\n",
      "/kaggle/input/tpu-getting-started/tfrecords-jpeg-224x224/train/14-224x224-798.tfrec\n",
      "/kaggle/input/tpu-getting-started/tfrecords-jpeg-224x224/train/06-224x224-798.tfrec\n",
      "/kaggle/input/tpu-getting-started/tfrecords-jpeg-224x224/train/10-224x224-798.tfrec\n",
      "/kaggle/input/tpu-getting-started/tfrecords-jpeg-224x224/train/01-224x224-798.tfrec\n",
      "/kaggle/input/tpu-getting-started/tfrecords-jpeg-224x224/train/03-224x224-798.tfrec\n",
      "/kaggle/input/tpu-getting-started/tfrecords-jpeg-224x224/train/08-224x224-798.tfrec\n",
      "/kaggle/input/tpu-getting-started/tfrecords-jpeg-224x224/train/09-224x224-798.tfrec\n",
      "/kaggle/input/tpu-getting-started/tfrecords-jpeg-224x224/train/15-224x224-783.tfrec\n",
      "/kaggle/input/tpu-getting-started/tfrecords-jpeg-224x224/train/07-224x224-798.tfrec\n",
      "/kaggle/input/tpu-getting-started/tfrecords-jpeg-224x224/train/04-224x224-798.tfrec\n",
      "/kaggle/input/tpu-getting-started/tfrecords-jpeg-224x224/train/12-224x224-798.tfrec\n",
      "/kaggle/input/tpu-getting-started/tfrecords-jpeg-331x331/val/05-331x331-232.tfrec\n",
      "/kaggle/input/tpu-getting-started/tfrecords-jpeg-331x331/val/08-331x331-232.tfrec\n",
      "/kaggle/input/tpu-getting-started/tfrecords-jpeg-331x331/val/01-331x331-232.tfrec\n",
      "/kaggle/input/tpu-getting-started/tfrecords-jpeg-331x331/val/03-331x331-232.tfrec\n",
      "/kaggle/input/tpu-getting-started/tfrecords-jpeg-331x331/val/13-331x331-232.tfrec\n",
      "/kaggle/input/tpu-getting-started/tfrecords-jpeg-331x331/val/10-331x331-232.tfrec\n",
      "/kaggle/input/tpu-getting-started/tfrecords-jpeg-331x331/val/07-331x331-232.tfrec\n",
      "/kaggle/input/tpu-getting-started/tfrecords-jpeg-331x331/val/04-331x331-232.tfrec\n",
      "/kaggle/input/tpu-getting-started/tfrecords-jpeg-331x331/val/14-331x331-232.tfrec\n",
      "/kaggle/input/tpu-getting-started/tfrecords-jpeg-331x331/val/15-331x331-232.tfrec\n",
      "/kaggle/input/tpu-getting-started/tfrecords-jpeg-331x331/val/12-331x331-232.tfrec\n",
      "/kaggle/input/tpu-getting-started/tfrecords-jpeg-331x331/val/11-331x331-232.tfrec\n",
      "/kaggle/input/tpu-getting-started/tfrecords-jpeg-331x331/val/02-331x331-232.tfrec\n",
      "/kaggle/input/tpu-getting-started/tfrecords-jpeg-331x331/val/00-331x331-232.tfrec\n",
      "/kaggle/input/tpu-getting-started/tfrecords-jpeg-331x331/val/06-331x331-232.tfrec\n",
      "/kaggle/input/tpu-getting-started/tfrecords-jpeg-331x331/val/09-331x331-232.tfrec\n",
      "/kaggle/input/tpu-getting-started/tfrecords-jpeg-331x331/test/14-331x331-462.tfrec\n",
      "/kaggle/input/tpu-getting-started/tfrecords-jpeg-331x331/test/13-331x331-462.tfrec\n",
      "/kaggle/input/tpu-getting-started/tfrecords-jpeg-331x331/test/03-331x331-462.tfrec\n",
      "/kaggle/input/tpu-getting-started/tfrecords-jpeg-331x331/test/05-331x331-462.tfrec\n",
      "/kaggle/input/tpu-getting-started/tfrecords-jpeg-331x331/test/09-331x331-462.tfrec\n",
      "/kaggle/input/tpu-getting-started/tfrecords-jpeg-331x331/test/04-331x331-462.tfrec\n",
      "/kaggle/input/tpu-getting-started/tfrecords-jpeg-331x331/test/01-331x331-462.tfrec\n",
      "/kaggle/input/tpu-getting-started/tfrecords-jpeg-331x331/test/11-331x331-462.tfrec\n",
      "/kaggle/input/tpu-getting-started/tfrecords-jpeg-331x331/test/07-331x331-462.tfrec\n",
      "/kaggle/input/tpu-getting-started/tfrecords-jpeg-331x331/test/08-331x331-462.tfrec\n",
      "/kaggle/input/tpu-getting-started/tfrecords-jpeg-331x331/test/00-331x331-462.tfrec\n",
      "/kaggle/input/tpu-getting-started/tfrecords-jpeg-331x331/test/02-331x331-462.tfrec\n",
      "/kaggle/input/tpu-getting-started/tfrecords-jpeg-331x331/test/15-331x331-452.tfrec\n",
      "/kaggle/input/tpu-getting-started/tfrecords-jpeg-331x331/test/10-331x331-462.tfrec\n",
      "/kaggle/input/tpu-getting-started/tfrecords-jpeg-331x331/test/12-331x331-462.tfrec\n",
      "/kaggle/input/tpu-getting-started/tfrecords-jpeg-331x331/test/06-331x331-462.tfrec\n",
      "/kaggle/input/tpu-getting-started/tfrecords-jpeg-331x331/train/15-331x331-783.tfrec\n",
      "/kaggle/input/tpu-getting-started/tfrecords-jpeg-331x331/train/02-331x331-798.tfrec\n",
      "/kaggle/input/tpu-getting-started/tfrecords-jpeg-331x331/train/14-331x331-798.tfrec\n",
      "/kaggle/input/tpu-getting-started/tfrecords-jpeg-331x331/train/04-331x331-798.tfrec\n",
      "/kaggle/input/tpu-getting-started/tfrecords-jpeg-331x331/train/08-331x331-798.tfrec\n",
      "/kaggle/input/tpu-getting-started/tfrecords-jpeg-331x331/train/12-331x331-798.tfrec\n",
      "/kaggle/input/tpu-getting-started/tfrecords-jpeg-331x331/train/03-331x331-798.tfrec\n",
      "/kaggle/input/tpu-getting-started/tfrecords-jpeg-331x331/train/05-331x331-798.tfrec\n",
      "/kaggle/input/tpu-getting-started/tfrecords-jpeg-331x331/train/00-331x331-798.tfrec\n",
      "/kaggle/input/tpu-getting-started/tfrecords-jpeg-331x331/train/06-331x331-798.tfrec\n",
      "/kaggle/input/tpu-getting-started/tfrecords-jpeg-331x331/train/07-331x331-798.tfrec\n",
      "/kaggle/input/tpu-getting-started/tfrecords-jpeg-331x331/train/09-331x331-798.tfrec\n",
      "/kaggle/input/tpu-getting-started/tfrecords-jpeg-331x331/train/10-331x331-798.tfrec\n",
      "/kaggle/input/tpu-getting-started/tfrecords-jpeg-331x331/train/01-331x331-798.tfrec\n",
      "/kaggle/input/tpu-getting-started/tfrecords-jpeg-331x331/train/13-331x331-798.tfrec\n",
      "/kaggle/input/tpu-getting-started/tfrecords-jpeg-331x331/train/11-331x331-798.tfrec\n",
      "/kaggle/input/tpu-getting-started/tfrecords-jpeg-192x192/val/05-192x192-232.tfrec\n",
      "/kaggle/input/tpu-getting-started/tfrecords-jpeg-192x192/val/07-192x192-232.tfrec\n",
      "/kaggle/input/tpu-getting-started/tfrecords-jpeg-192x192/val/15-192x192-232.tfrec\n",
      "/kaggle/input/tpu-getting-started/tfrecords-jpeg-192x192/val/08-192x192-232.tfrec\n",
      "/kaggle/input/tpu-getting-started/tfrecords-jpeg-192x192/val/06-192x192-232.tfrec\n",
      "/kaggle/input/tpu-getting-started/tfrecords-jpeg-192x192/val/00-192x192-232.tfrec\n",
      "/kaggle/input/tpu-getting-started/tfrecords-jpeg-192x192/val/11-192x192-232.tfrec\n",
      "/kaggle/input/tpu-getting-started/tfrecords-jpeg-192x192/val/04-192x192-232.tfrec\n",
      "/kaggle/input/tpu-getting-started/tfrecords-jpeg-192x192/val/09-192x192-232.tfrec\n",
      "/kaggle/input/tpu-getting-started/tfrecords-jpeg-192x192/val/02-192x192-232.tfrec\n",
      "/kaggle/input/tpu-getting-started/tfrecords-jpeg-192x192/val/10-192x192-232.tfrec\n",
      "/kaggle/input/tpu-getting-started/tfrecords-jpeg-192x192/val/12-192x192-232.tfrec\n",
      "/kaggle/input/tpu-getting-started/tfrecords-jpeg-192x192/val/14-192x192-232.tfrec\n",
      "/kaggle/input/tpu-getting-started/tfrecords-jpeg-192x192/val/13-192x192-232.tfrec\n",
      "/kaggle/input/tpu-getting-started/tfrecords-jpeg-192x192/val/03-192x192-232.tfrec\n",
      "/kaggle/input/tpu-getting-started/tfrecords-jpeg-192x192/val/01-192x192-232.tfrec\n",
      "/kaggle/input/tpu-getting-started/tfrecords-jpeg-192x192/test/06-192x192-462.tfrec\n",
      "/kaggle/input/tpu-getting-started/tfrecords-jpeg-192x192/test/12-192x192-462.tfrec\n",
      "/kaggle/input/tpu-getting-started/tfrecords-jpeg-192x192/test/08-192x192-462.tfrec\n",
      "/kaggle/input/tpu-getting-started/tfrecords-jpeg-192x192/test/07-192x192-462.tfrec\n",
      "/kaggle/input/tpu-getting-started/tfrecords-jpeg-192x192/test/00-192x192-462.tfrec\n",
      "/kaggle/input/tpu-getting-started/tfrecords-jpeg-192x192/test/03-192x192-462.tfrec\n",
      "/kaggle/input/tpu-getting-started/tfrecords-jpeg-192x192/test/13-192x192-462.tfrec\n",
      "/kaggle/input/tpu-getting-started/tfrecords-jpeg-192x192/test/05-192x192-462.tfrec\n",
      "/kaggle/input/tpu-getting-started/tfrecords-jpeg-192x192/test/01-192x192-462.tfrec\n",
      "/kaggle/input/tpu-getting-started/tfrecords-jpeg-192x192/test/14-192x192-462.tfrec\n",
      "/kaggle/input/tpu-getting-started/tfrecords-jpeg-192x192/test/10-192x192-462.tfrec\n",
      "/kaggle/input/tpu-getting-started/tfrecords-jpeg-192x192/test/04-192x192-462.tfrec\n",
      "/kaggle/input/tpu-getting-started/tfrecords-jpeg-192x192/test/15-192x192-452.tfrec\n",
      "/kaggle/input/tpu-getting-started/tfrecords-jpeg-192x192/test/09-192x192-462.tfrec\n",
      "/kaggle/input/tpu-getting-started/tfrecords-jpeg-192x192/test/11-192x192-462.tfrec\n",
      "/kaggle/input/tpu-getting-started/tfrecords-jpeg-192x192/test/02-192x192-462.tfrec\n",
      "/kaggle/input/tpu-getting-started/tfrecords-jpeg-192x192/train/06-192x192-798.tfrec\n",
      "/kaggle/input/tpu-getting-started/tfrecords-jpeg-192x192/train/11-192x192-798.tfrec\n",
      "/kaggle/input/tpu-getting-started/tfrecords-jpeg-192x192/train/12-192x192-798.tfrec\n",
      "/kaggle/input/tpu-getting-started/tfrecords-jpeg-192x192/train/03-192x192-798.tfrec\n",
      "/kaggle/input/tpu-getting-started/tfrecords-jpeg-192x192/train/09-192x192-798.tfrec\n",
      "/kaggle/input/tpu-getting-started/tfrecords-jpeg-192x192/train/08-192x192-798.tfrec\n",
      "/kaggle/input/tpu-getting-started/tfrecords-jpeg-192x192/train/04-192x192-798.tfrec\n",
      "/kaggle/input/tpu-getting-started/tfrecords-jpeg-192x192/train/05-192x192-798.tfrec\n",
      "/kaggle/input/tpu-getting-started/tfrecords-jpeg-192x192/train/14-192x192-798.tfrec\n",
      "/kaggle/input/tpu-getting-started/tfrecords-jpeg-192x192/train/07-192x192-798.tfrec\n",
      "/kaggle/input/tpu-getting-started/tfrecords-jpeg-192x192/train/13-192x192-798.tfrec\n",
      "/kaggle/input/tpu-getting-started/tfrecords-jpeg-192x192/train/15-192x192-783.tfrec\n",
      "/kaggle/input/tpu-getting-started/tfrecords-jpeg-192x192/train/02-192x192-798.tfrec\n",
      "/kaggle/input/tpu-getting-started/tfrecords-jpeg-192x192/train/10-192x192-798.tfrec\n",
      "/kaggle/input/tpu-getting-started/tfrecords-jpeg-192x192/train/01-192x192-798.tfrec\n",
      "/kaggle/input/tpu-getting-started/tfrecords-jpeg-192x192/train/00-192x192-798.tfrec\n",
      "/kaggle/input/tpu-getting-started/tfrecords-jpeg-512x512/val/02-512x512-232.tfrec\n",
      "/kaggle/input/tpu-getting-started/tfrecords-jpeg-512x512/val/12-512x512-232.tfrec\n",
      "/kaggle/input/tpu-getting-started/tfrecords-jpeg-512x512/val/09-512x512-232.tfrec\n",
      "/kaggle/input/tpu-getting-started/tfrecords-jpeg-512x512/val/00-512x512-232.tfrec\n",
      "/kaggle/input/tpu-getting-started/tfrecords-jpeg-512x512/val/13-512x512-232.tfrec\n",
      "/kaggle/input/tpu-getting-started/tfrecords-jpeg-512x512/val/03-512x512-232.tfrec\n",
      "/kaggle/input/tpu-getting-started/tfrecords-jpeg-512x512/val/14-512x512-232.tfrec\n",
      "/kaggle/input/tpu-getting-started/tfrecords-jpeg-512x512/val/04-512x512-232.tfrec\n",
      "/kaggle/input/tpu-getting-started/tfrecords-jpeg-512x512/val/10-512x512-232.tfrec\n",
      "/kaggle/input/tpu-getting-started/tfrecords-jpeg-512x512/val/05-512x512-232.tfrec\n",
      "/kaggle/input/tpu-getting-started/tfrecords-jpeg-512x512/val/08-512x512-232.tfrec\n",
      "/kaggle/input/tpu-getting-started/tfrecords-jpeg-512x512/val/11-512x512-232.tfrec\n",
      "/kaggle/input/tpu-getting-started/tfrecords-jpeg-512x512/val/07-512x512-232.tfrec\n",
      "/kaggle/input/tpu-getting-started/tfrecords-jpeg-512x512/val/15-512x512-232.tfrec\n",
      "/kaggle/input/tpu-getting-started/tfrecords-jpeg-512x512/val/01-512x512-232.tfrec\n",
      "/kaggle/input/tpu-getting-started/tfrecords-jpeg-512x512/val/06-512x512-232.tfrec\n",
      "/kaggle/input/tpu-getting-started/tfrecords-jpeg-512x512/test/15-512x512-452.tfrec\n",
      "/kaggle/input/tpu-getting-started/tfrecords-jpeg-512x512/test/02-512x512-462.tfrec\n",
      "/kaggle/input/tpu-getting-started/tfrecords-jpeg-512x512/test/03-512x512-462.tfrec\n",
      "/kaggle/input/tpu-getting-started/tfrecords-jpeg-512x512/test/01-512x512-462.tfrec\n",
      "/kaggle/input/tpu-getting-started/tfrecords-jpeg-512x512/test/00-512x512-462.tfrec\n",
      "/kaggle/input/tpu-getting-started/tfrecords-jpeg-512x512/test/13-512x512-462.tfrec\n",
      "/kaggle/input/tpu-getting-started/tfrecords-jpeg-512x512/test/07-512x512-462.tfrec\n",
      "/kaggle/input/tpu-getting-started/tfrecords-jpeg-512x512/test/10-512x512-462.tfrec\n",
      "/kaggle/input/tpu-getting-started/tfrecords-jpeg-512x512/test/04-512x512-462.tfrec\n",
      "/kaggle/input/tpu-getting-started/tfrecords-jpeg-512x512/test/14-512x512-462.tfrec\n",
      "/kaggle/input/tpu-getting-started/tfrecords-jpeg-512x512/test/09-512x512-462.tfrec\n",
      "/kaggle/input/tpu-getting-started/tfrecords-jpeg-512x512/test/08-512x512-462.tfrec\n",
      "/kaggle/input/tpu-getting-started/tfrecords-jpeg-512x512/test/11-512x512-462.tfrec\n",
      "/kaggle/input/tpu-getting-started/tfrecords-jpeg-512x512/test/05-512x512-462.tfrec\n",
      "/kaggle/input/tpu-getting-started/tfrecords-jpeg-512x512/test/06-512x512-462.tfrec\n",
      "/kaggle/input/tpu-getting-started/tfrecords-jpeg-512x512/test/12-512x512-462.tfrec\n",
      "/kaggle/input/tpu-getting-started/tfrecords-jpeg-512x512/train/05-512x512-798.tfrec\n",
      "/kaggle/input/tpu-getting-started/tfrecords-jpeg-512x512/train/00-512x512-798.tfrec\n",
      "/kaggle/input/tpu-getting-started/tfrecords-jpeg-512x512/train/11-512x512-798.tfrec\n",
      "/kaggle/input/tpu-getting-started/tfrecords-jpeg-512x512/train/15-512x512-783.tfrec\n",
      "/kaggle/input/tpu-getting-started/tfrecords-jpeg-512x512/train/10-512x512-798.tfrec\n",
      "/kaggle/input/tpu-getting-started/tfrecords-jpeg-512x512/train/12-512x512-798.tfrec\n",
      "/kaggle/input/tpu-getting-started/tfrecords-jpeg-512x512/train/01-512x512-798.tfrec\n",
      "/kaggle/input/tpu-getting-started/tfrecords-jpeg-512x512/train/14-512x512-798.tfrec\n",
      "/kaggle/input/tpu-getting-started/tfrecords-jpeg-512x512/train/13-512x512-798.tfrec\n",
      "/kaggle/input/tpu-getting-started/tfrecords-jpeg-512x512/train/07-512x512-798.tfrec\n",
      "/kaggle/input/tpu-getting-started/tfrecords-jpeg-512x512/train/03-512x512-798.tfrec\n",
      "/kaggle/input/tpu-getting-started/tfrecords-jpeg-512x512/train/06-512x512-798.tfrec\n",
      "/kaggle/input/tpu-getting-started/tfrecords-jpeg-512x512/train/08-512x512-798.tfrec\n",
      "/kaggle/input/tpu-getting-started/tfrecords-jpeg-512x512/train/02-512x512-798.tfrec\n",
      "/kaggle/input/tpu-getting-started/tfrecords-jpeg-512x512/train/09-512x512-798.tfrec\n",
      "/kaggle/input/tpu-getting-started/tfrecords-jpeg-512x512/train/04-512x512-798.tfrec\n"
     ]
    }
   ],
   "source": [
    "# This Python 3 environment comes with many helpful analytics libraries installed\n",
    "# It is defined by the kaggle/python Docker image: https://github.com/kaggle/docker-python\n",
    "# For example, here's several helpful packages to load\n",
    "\n",
    "import numpy as np # linear algebra\n",
    "import pandas as pd # data processing, CSV file I/O (e.g. pd.read_csv)\n",
    "\n",
    "# Input data files are available in the read-only \"../input/\" directory\n",
    "# For example, running this (by clicking run or pressing Shift+Enter) will list all files under the input directory\n",
    "\n",
    "import os\n",
    "for dirname, _, filenames in os.walk('/kaggle/input'):\n",
    "    for filename in filenames:\n",
    "        print(os.path.join(dirname, filename))\n",
    "\n",
    "# You can write up to 20GB to the current directory (/kaggle/working/) that gets preserved as output when you create a version using \"Save & Run All\" \n",
    "# You can also write temporary files to /kaggle/temp/, but they won't be saved outside of the current session"
   ]
  },
  {
   "cell_type": "code",
   "execution_count": 2,
   "id": "c68181ce",
   "metadata": {
    "execution": {
     "iopub.execute_input": "2023-01-14T23:03:29.646785Z",
     "iopub.status.busy": "2023-01-14T23:03:29.644113Z",
     "iopub.status.idle": "2023-01-14T23:03:44.757321Z",
     "shell.execute_reply": "2023-01-14T23:03:44.758683Z",
     "shell.execute_reply.started": "2023-01-14T21:35:23.513762Z"
    },
    "papermill": {
     "duration": 15.159807,
     "end_time": "2023-01-14T23:03:44.758909",
     "exception": false,
     "start_time": "2023-01-14T23:03:29.599102",
     "status": "completed"
    },
    "tags": []
   },
   "outputs": [
    {
     "name": "stdout",
     "output_type": "stream",
     "text": [
      "Requirement already satisfied: scikit-learn in /opt/conda/lib/python3.7/site-packages (0.23.2)\r\n",
      "Collecting scikit-learn\r\n",
      "  Downloading scikit_learn-1.0.2-cp37-cp37m-manylinux_2_17_x86_64.manylinux2014_x86_64.whl (24.8 MB)\r\n",
      "\u001b[K     |████████████████████████████████| 24.8 MB 2.2 MB/s \r\n",
      "\u001b[?25hRequirement already satisfied: numpy>=1.14.6 in /opt/conda/lib/python3.7/site-packages (from scikit-learn) (1.19.5)\r\n",
      "Requirement already satisfied: threadpoolctl>=2.0.0 in /opt/conda/lib/python3.7/site-packages (from scikit-learn) (2.2.0)\r\n",
      "Requirement already satisfied: scipy>=1.1.0 in /opt/conda/lib/python3.7/site-packages (from scikit-learn) (1.7.1)\r\n",
      "Requirement already satisfied: joblib>=0.11 in /opt/conda/lib/python3.7/site-packages (from scikit-learn) (1.0.1)\r\n",
      "Installing collected packages: scikit-learn\r\n",
      "  Attempting uninstall: scikit-learn\r\n",
      "    Found existing installation: scikit-learn 0.23.2\r\n",
      "    Uninstalling scikit-learn-0.23.2:\r\n",
      "      Successfully uninstalled scikit-learn-0.23.2\r\n",
      "\u001b[31mERROR: pip's dependency resolver does not currently take into account all the packages that are installed. This behaviour is the source of the following dependency conflicts.\r\n",
      "pdpbox 0.2.1 requires matplotlib==3.1.1, but you have matplotlib 3.4.3 which is incompatible.\r\n",
      "hypertools 0.7.0 requires scikit-learn!=0.22,<0.24,>=0.19.1, but you have scikit-learn 1.0.2 which is incompatible.\u001b[0m\r\n",
      "Successfully installed scikit-learn-1.0.2\r\n",
      "\u001b[33mWARNING: Running pip as the 'root' user can result in broken permissions and conflicting behaviour with the system package manager. It is recommended to use a virtual environment instead: https://pip.pypa.io/warnings/venv\u001b[0m\r\n",
      "Note: you may need to restart the kernel to use updated packages.\n"
     ]
    }
   ],
   "source": [
    "pip install -U scikit-learn"
   ]
  },
  {
   "cell_type": "code",
   "execution_count": 3,
   "id": "c70be2dd",
   "metadata": {
    "execution": {
     "iopub.execute_input": "2023-01-14T23:03:44.834612Z",
     "iopub.status.busy": "2023-01-14T23:03:44.833306Z",
     "iopub.status.idle": "2023-01-14T23:03:53.669293Z",
     "shell.execute_reply": "2023-01-14T23:03:53.668725Z",
     "shell.execute_reply.started": "2023-01-14T21:35:35.999743Z"
    },
    "papermill": {
     "duration": 8.876857,
     "end_time": "2023-01-14T23:03:53.669447",
     "exception": false,
     "start_time": "2023-01-14T23:03:44.792590",
     "status": "completed"
    },
    "tags": []
   },
   "outputs": [
    {
     "name": "stdout",
     "output_type": "stream",
     "text": [
      "\u001b[33mWARNING: Running pip as the 'root' user can result in broken permissions and conflicting behaviour with the system package manager. It is recommended to use a virtual environment instead: https://pip.pypa.io/warnings/venv\u001b[0m\r\n"
     ]
    }
   ],
   "source": [
    "!pip install -q efficientnet"
   ]
  },
  {
   "cell_type": "code",
   "execution_count": 4,
   "id": "7d3d28fe",
   "metadata": {
    "execution": {
     "iopub.execute_input": "2023-01-14T23:03:53.762568Z",
     "iopub.status.busy": "2023-01-14T23:03:53.761209Z",
     "iopub.status.idle": "2023-01-14T23:04:00.718599Z",
     "shell.execute_reply": "2023-01-14T23:04:00.718040Z",
     "shell.execute_reply.started": "2023-01-14T21:35:42.839019Z"
    },
    "papermill": {
     "duration": 7.01655,
     "end_time": "2023-01-14T23:04:00.718758",
     "exception": false,
     "start_time": "2023-01-14T23:03:53.702208",
     "status": "completed"
    },
    "tags": []
   },
   "outputs": [
    {
     "name": "stderr",
     "output_type": "stream",
     "text": [
      "2023-01-14 23:03:54.509244: W tensorflow/stream_executor/platform/default/dso_loader.cc:60] Could not load dynamic library 'libcudart.so.11.0'; dlerror: libcudart.so.11.0: cannot open shared object file: No such file or directory; LD_LIBRARY_PATH: /opt/conda/lib\n",
      "2023-01-14 23:03:54.509390: I tensorflow/stream_executor/cuda/cudart_stub.cc:29] Ignore above cudart dlerror if you do not have a GPU set up on your machine.\n"
     ]
    },
    {
     "name": "stdout",
     "output_type": "stream",
     "text": [
      "Tensorflow version 2.4.1\n"
     ]
    }
   ],
   "source": [
    "import tensorflow as tf\n",
    "from kaggle_datasets import KaggleDatasets\n",
    "import numpy as np\n",
    "import random, re, math\n",
    "import numpy as np, pandas as pd\n",
    "import matplotlib.pyplot as plt\n",
    "from sklearn.metrics import f1_score, precision_score, recall_score, confusion_matrix\n",
    "import tensorflow as tf, tensorflow.keras.backend as K\n",
    "from kaggle_datasets import KaggleDatasets\n",
    "from sklearn.model_selection import KFold\n",
    "import warnings\n",
    "warnings.filterwarnings(action='ignore')\n",
    "\n",
    "import tensorflow\n",
    "from tensorflow.keras.models import Sequential, load_model\n",
    "from tensorflow.keras.layers import Dense, Dropout, BatchNormalization, GlobalAveragePooling2D, GlobalMaxPooling2D\n",
    "from tensorflow.keras import regularizers\n",
    "from tensorflow.keras.applications import xception\n",
    "from tensorflow.keras.optimizers import RMSprop\n",
    "import efficientnet.tfkeras as efn\n",
    "from tensorflow.keras.applications import DenseNet201\n",
    "\n",
    "\n",
    "print(\"Tensorflow version \" + tf.__version__)"
   ]
  },
  {
   "cell_type": "code",
   "execution_count": 5,
   "id": "aa003ffd",
   "metadata": {
    "execution": {
     "iopub.execute_input": "2023-01-14T23:04:00.790851Z",
     "iopub.status.busy": "2023-01-14T23:04:00.790173Z",
     "iopub.status.idle": "2023-01-14T23:04:05.511040Z",
     "shell.execute_reply": "2023-01-14T23:04:05.511730Z",
     "shell.execute_reply.started": "2023-01-14T21:37:04.330256Z"
    },
    "papermill": {
     "duration": 4.759572,
     "end_time": "2023-01-14T23:04:05.511975",
     "exception": false,
     "start_time": "2023-01-14T23:04:00.752403",
     "status": "completed"
    },
    "tags": []
   },
   "outputs": [
    {
     "name": "stdout",
     "output_type": "stream",
     "text": [
      "Running on TPU  grpc://10.0.0.2:8470\n"
     ]
    },
    {
     "name": "stderr",
     "output_type": "stream",
     "text": [
      "2023-01-14 23:04:00.796806: I tensorflow/compiler/jit/xla_cpu_device.cc:41] Not creating XLA devices, tf_xla_enable_xla_devices not set\n",
      "2023-01-14 23:04:00.799690: W tensorflow/stream_executor/platform/default/dso_loader.cc:60] Could not load dynamic library 'libcuda.so.1'; dlerror: libcuda.so.1: cannot open shared object file: No such file or directory; LD_LIBRARY_PATH: /opt/conda/lib\n",
      "2023-01-14 23:04:00.799723: W tensorflow/stream_executor/cuda/cuda_driver.cc:326] failed call to cuInit: UNKNOWN ERROR (303)\n",
      "2023-01-14 23:04:00.799751: I tensorflow/stream_executor/cuda/cuda_diagnostics.cc:156] kernel driver does not appear to be running on this host (49b41cd71160): /proc/driver/nvidia/version does not exist\n",
      "2023-01-14 23:04:00.804616: I tensorflow/core/platform/cpu_feature_guard.cc:142] This TensorFlow binary is optimized with oneAPI Deep Neural Network Library (oneDNN) to use the following CPU instructions in performance-critical operations:  AVX2 FMA\n",
      "To enable them in other operations, rebuild TensorFlow with the appropriate compiler flags.\n",
      "2023-01-14 23:04:00.806252: I tensorflow/compiler/jit/xla_gpu_device.cc:99] Not creating XLA devices, tf_xla_enable_xla_devices not set\n",
      "2023-01-14 23:04:00.811634: I tensorflow/compiler/jit/xla_gpu_device.cc:99] Not creating XLA devices, tf_xla_enable_xla_devices not set\n",
      "2023-01-14 23:04:00.838592: I tensorflow/core/distributed_runtime/rpc/grpc_channel.cc:301] Initialize GrpcChannelCache for job worker -> {0 -> 10.0.0.2:8470}\n",
      "2023-01-14 23:04:00.838643: I tensorflow/core/distributed_runtime/rpc/grpc_channel.cc:301] Initialize GrpcChannelCache for job localhost -> {0 -> localhost:30020}\n",
      "2023-01-14 23:04:00.864563: I tensorflow/core/distributed_runtime/rpc/grpc_channel.cc:301] Initialize GrpcChannelCache for job worker -> {0 -> 10.0.0.2:8470}\n",
      "2023-01-14 23:04:00.864616: I tensorflow/core/distributed_runtime/rpc/grpc_channel.cc:301] Initialize GrpcChannelCache for job localhost -> {0 -> localhost:30020}\n",
      "2023-01-14 23:04:00.866198: I tensorflow/core/distributed_runtime/rpc/grpc_server_lib.cc:411] Started server with target: grpc://localhost:30020\n"
     ]
    },
    {
     "name": "stdout",
     "output_type": "stream",
     "text": [
      "REPLICAS:  8\n"
     ]
    }
   ],
   "source": [
    "# Detect hardware, return appropriate distribution strategy\n",
    "try:\n",
    "    tpu = tf.distribute.cluster_resolver.TPUClusterResolver()  # TPU detection. No parameters necessary if TPU_NAME environment variable is set. On Kaggle this is always the case.\n",
    "    print('Running on TPU ', tpu.master())\n",
    "except ValueError:\n",
    "    tpu = None\n",
    "\n",
    "if tpu:\n",
    "    tf.config.experimental_connect_to_cluster(tpu)\n",
    "    tf.tpu.experimental.initialize_tpu_system(tpu)\n",
    "    strategy = tf.distribute.experimental.TPUStrategy(tpu)\n",
    "else:\n",
    "    strategy = tf.distribute.get_strategy() # default distribution strategy in Tensorflow. Works on CPU and single GPU.\n",
    "\n",
    "print(\"REPLICAS: \", strategy.num_replicas_in_sync)"
   ]
  },
  {
   "cell_type": "code",
   "execution_count": 6,
   "id": "04c23164",
   "metadata": {
    "execution": {
     "iopub.execute_input": "2023-01-14T23:04:05.595768Z",
     "iopub.status.busy": "2023-01-14T23:04:05.585645Z",
     "iopub.status.idle": "2023-01-14T23:04:06.265367Z",
     "shell.execute_reply": "2023-01-14T23:04:06.264657Z",
     "shell.execute_reply.started": "2023-01-14T21:37:10.224455Z"
    },
    "papermill": {
     "duration": 0.717883,
     "end_time": "2023-01-14T23:04:06.265519",
     "exception": false,
     "start_time": "2023-01-14T23:04:05.547636",
     "status": "completed"
    },
    "tags": []
   },
   "outputs": [],
   "source": [
    "GCS_DS_PATH = KaggleDatasets().get_gcs_path()"
   ]
  },
  {
   "cell_type": "code",
   "execution_count": 7,
   "id": "4445fd29",
   "metadata": {
    "execution": {
     "iopub.execute_input": "2023-01-14T23:04:06.341302Z",
     "iopub.status.busy": "2023-01-14T23:04:06.340605Z",
     "iopub.status.idle": "2023-01-14T23:04:06.344063Z",
     "shell.execute_reply": "2023-01-14T23:04:06.343549Z",
     "shell.execute_reply.started": "2023-01-14T21:37:10.578744Z"
    },
    "papermill": {
     "duration": 0.044264,
     "end_time": "2023-01-14T23:04:06.344201",
     "exception": false,
     "start_time": "2023-01-14T23:04:06.299937",
     "status": "completed"
    },
    "tags": []
   },
   "outputs": [],
   "source": [
    "IMAGE_SIZE = [331, 331] # at this size, a GPU will run out of memory. Use the TPU\n",
    "EPOCHS = 25\n",
    "BATCH_SIZE = 16 * strategy.num_replicas_in_sync\n",
    "\n",
    "#NUM_TRAINING_IMAGES = 68094\n",
    "NUM_VALIDATION_IMAGES = 3712\n",
    "NUM_TEST_IMAGES = 7382\n",
    "NUM_TRAINING_IMAGES = 12753\n",
    "#NUM_TEST_IMAGES = 7382\n",
    "STEPS_PER_EPOCH = NUM_TRAINING_IMAGES // BATCH_SIZE\n",
    "TEST_STEPS = -(-NUM_TEST_IMAGES // BATCH_SIZE)\n",
    "VALIDATION_STEPS = -(-NUM_VALIDATION_IMAGES // BATCH_SIZE)"
   ]
  },
  {
   "cell_type": "code",
   "execution_count": 8,
   "id": "af8e80a9",
   "metadata": {
    "execution": {
     "iopub.execute_input": "2023-01-14T23:04:06.441147Z",
     "iopub.status.busy": "2023-01-14T23:04:06.440392Z",
     "iopub.status.idle": "2023-01-14T23:04:06.864721Z",
     "shell.execute_reply": "2023-01-14T23:04:06.865213Z",
     "shell.execute_reply.started": "2023-01-14T21:37:10.584953Z"
    },
    "papermill": {
     "duration": 0.486766,
     "end_time": "2023-01-14T23:04:06.865427",
     "exception": false,
     "start_time": "2023-01-14T23:04:06.378661",
     "status": "completed"
    },
    "tags": []
   },
   "outputs": [
    {
     "name": "stdout",
     "output_type": "stream",
     "text": [
      "Learning rate schedule: 1e-05 to 0.0004 to 1.56e-05\n"
     ]
    },
    {
     "data": {
      "image/png": "[encoded data removed]",
      "text/plain": [
       "<Figure size 432x288 with 1 Axes>"
      ]
     },
     "metadata": {
      "needs_background": "light"
     },
     "output_type": "display_data"
    }
   ],
   "source": [
    "\n",
    "LR_START = 0.00001\n",
    "LR_MAX = 0.00005 * strategy.num_replicas_in_sync\n",
    "LR_MIN = 0.00001\n",
    "LR_RAMPUP_EPOCHS = 5\n",
    "LR_SUSTAIN_EPOCHS = 0\n",
    "LR_EXP_DECAY = .8\n",
    "\n",
    "def lrfn(epoch):\n",
    "    if epoch < LR_RAMPUP_EPOCHS:\n",
    "        lr = (LR_MAX - LR_START) / LR_RAMPUP_EPOCHS * epoch + LR_START\n",
    "    elif epoch < LR_RAMPUP_EPOCHS + LR_SUSTAIN_EPOCHS:\n",
    "        lr = LR_MAX\n",
    "    else:\n",
    "        lr = (LR_MAX - LR_MIN) * LR_EXP_DECAY**(epoch - LR_RAMPUP_EPOCHS - LR_SUSTAIN_EPOCHS) + LR_MIN\n",
    "    return lr\n",
    "    \n",
    "lr_callback = tf.keras.callbacks.LearningRateScheduler(lrfn, verbose=1)\n",
    "\n",
    "rng = [i for i in range(25 if EPOCHS<25 else EPOCHS)]\n",
    "y = [lrfn(x) for x in rng]\n",
    "plt.plot(rng, y)\n",
    "print(\"Learning rate schedule: {:.3g} to {:.3g} to {:.3g}\".format(y[0], max(y), y[-1]))"
   ]
  },
  {
   "cell_type": "code",
   "execution_count": 9,
   "id": "0c3e01fd",
   "metadata": {
    "execution": {
     "iopub.execute_input": "2023-01-14T23:04:06.944149Z",
     "iopub.status.busy": "2023-01-14T23:04:06.943236Z",
     "iopub.status.idle": "2023-01-14T23:04:06.947415Z",
     "shell.execute_reply": "2023-01-14T23:04:06.946766Z"
    },
    "papermill": {
     "duration": 0.04642,
     "end_time": "2023-01-14T23:04:06.947573",
     "exception": false,
     "start_time": "2023-01-14T23:04:06.901153",
     "status": "completed"
    },
    "tags": []
   },
   "outputs": [
    {
     "data": {
      "text/plain": [
       "'LR_START = 0.00001\\nLR_MAX = 0.00005 * strategy.num_replicas_in_sync\\nLR_MIN = 0.00001\\nLR_RAMPUP_EPOCHS = 5\\nLR_SUSTAIN_EPOCHS = 0\\nLR_EXP_DECAY = .8\\n\\n    \\ndef scheduler(epoch):\\n    if epoch < 4:\\n        return 0.0005\\n    elif epoch < 8:\\n        return 0.0002\\n    elif epoch < 12:\\n        return 0.0001\\n    elif epoch < 16:\\n        return 0.00005\\n    elif epoch < 20:\\n        return 0.00002\\n    else:\\n        return 0.00001\\n    \\nlr_callback = tf.keras.callbacks.LearningRateScheduler(scheduler, verbose = True)\\n\\nrng = [i for i in range(25 if EPOCHS<25 else EPOCHS)]\\ny = [scheduler(x) for x in rng]\\nplt.plot(rng, y)\\n#print(\"Learning rate schedule: {:.3g} to {:.3g} to {:.3g}\".format(y[0], max(y), y[-1]))'"
      ]
     },
     "execution_count": 9,
     "metadata": {},
     "output_type": "execute_result"
    }
   ],
   "source": [
    "\"\"\"LR_START = 0.00001\n",
    "LR_MAX = 0.00005 * strategy.num_replicas_in_sync\n",
    "LR_MIN = 0.00001\n",
    "LR_RAMPUP_EPOCHS = 5\n",
    "LR_SUSTAIN_EPOCHS = 0\n",
    "LR_EXP_DECAY = .8\n",
    "\n",
    "    \n",
    "def scheduler(epoch):\n",
    "    if epoch < 4:\n",
    "        return 0.0005\n",
    "    elif epoch < 8:\n",
    "        return 0.0002\n",
    "    elif epoch < 12:\n",
    "        return 0.0001\n",
    "    elif epoch < 16:\n",
    "        return 0.00005\n",
    "    elif epoch < 20:\n",
    "        return 0.00002\n",
    "    else:\n",
    "        return 0.00001\n",
    "    \n",
    "lr_callback = tf.keras.callbacks.LearningRateScheduler(scheduler, verbose = True)\n",
    "\n",
    "rng = [i for i in range(25 if EPOCHS<25 else EPOCHS)]\n",
    "y = [scheduler(x) for x in rng]\n",
    "plt.plot(rng, y)\n",
    "#print(\"Learning rate schedule: {:.3g} to {:.3g} to {:.3g}\".format(y[0], max(y), y[-1]))\"\"\""
   ]
  },
  {
   "cell_type": "code",
   "execution_count": 10,
   "id": "6a9c3ced",
   "metadata": {
    "execution": {
     "iopub.execute_input": "2023-01-14T23:04:07.025256Z",
     "iopub.status.busy": "2023-01-14T23:04:07.024131Z",
     "iopub.status.idle": "2023-01-14T23:04:08.195639Z",
     "shell.execute_reply": "2023-01-14T23:04:08.194584Z",
     "shell.execute_reply.started": "2023-01-14T21:37:14.344714Z"
    },
    "papermill": {
     "duration": 1.211344,
     "end_time": "2023-01-14T23:04:08.195806",
     "exception": false,
     "start_time": "2023-01-14T23:04:06.984462",
     "status": "completed"
    },
    "tags": []
   },
   "outputs": [
    {
     "name": "stderr",
     "output_type": "stream",
     "text": [
      "2023-01-14 23:04:07.048482: I tensorflow/core/platform/cloud/google_auth_provider.cc:180] Attempting an empty bearer token since no token was retrieved from files, and GCE metadata check was skipped.\n",
      "2023-01-14 23:04:07.695303: I tensorflow/core/platform/cloud/google_auth_provider.cc:180] Attempting an empty bearer token since no token was retrieved from files, and GCE metadata check was skipped.\n",
      "2023-01-14 23:04:07.800035: I tensorflow/core/platform/cloud/google_auth_provider.cc:180] Attempting an empty bearer token since no token was retrieved from files, and GCE metadata check was skipped.\n",
      "2023-01-14 23:04:07.866779: I tensorflow/core/platform/cloud/google_auth_provider.cc:180] Attempting an empty bearer token since no token was retrieved from files, and GCE metadata check was skipped.\n"
     ]
    }
   ],
   "source": [
    "def data_augment(image, label):\n",
    "    p_spatial = tf.random.uniform([], 0, 1.0, dtype=tf.float32)\n",
    "    p_rotate = tf.random.uniform([], 0, 1.0, dtype=tf.float32)\n",
    "    \n",
    "    image = tf.image.resize(image, [331+30, 331+30], method=tf.image.ResizeMethod.NEAREST_NEIGHBOR)\n",
    "    image = tf.image.random_crop(image, size=[331, 331, 3])\n",
    "    \n",
    "    if p_rotate > .8:\n",
    "        image = tf.image.rot90(image, k=3) \n",
    "    elif p_rotate > .6:\n",
    "        image = tf.image.rot90(image, k=2) \n",
    "    elif p_rotate > .4:\n",
    "        image = tf.image.rot90(image, k=1)\n",
    "        \n",
    "    image = tf.image.random_flip_left_right(image)\n",
    "    image = tf.image.random_flip_up_down(image)\n",
    "    \n",
    "    if p_spatial > .75:\n",
    "        image = tf.image.transpose(image)\n",
    "        \n",
    "    return image, label   \n",
    "\n",
    "def decode_image(image_data):\n",
    "    image = tf.image.decode_jpeg(image_data, channels=3)\n",
    "    image = tf.cast(image, tf.float32) / 255.0  # convert image to floats in [0, 1] range\n",
    "    image = tf.reshape(image, [*IMAGE_SIZE, 3]) # explicit size needed for TPU\n",
    "    return image\n",
    "\n",
    "def read_labeled_tfrecord(example):\n",
    "    LABELED_TFREC_FORMAT = {\n",
    "        \"image\": tf.io.FixedLenFeature([], tf.string), # tf.string means bytestring\n",
    "        \"class\": tf.io.FixedLenFeature([], tf.int64),  # shape [] means single element\n",
    "    }\n",
    "    example = tf.io.parse_single_example(example, LABELED_TFREC_FORMAT)\n",
    "    image = decode_image(example['image'])\n",
    "    label = tf.cast(example['class'], tf.int32)\n",
    "    return image, label # returns a dataset of (image, label) pairs\n",
    "\n",
    "def read_unlabeled_tfrecord(example):\n",
    "    UNLABELED_TFREC_FORMAT = {\n",
    "        \"image\": tf.io.FixedLenFeature([], tf.string), # tf.string means bytestring\n",
    "        \"id\": tf.io.FixedLenFeature([], tf.string),  # shape [] means single element\n",
    "        # class is missing, this competitions's challenge is to predict flower classes for the test dataset\n",
    "    }\n",
    "    example = tf.io.parse_single_example(example, UNLABELED_TFREC_FORMAT)\n",
    "    image = decode_image(example['image'])\n",
    "    idnum = example['id']\n",
    "    return image, idnum # returns a dataset of image(s)\n",
    "\n",
    "def load_dataset(filenames, labeled=True, ordered=False):\n",
    "    # Read from TFRecords. For optimal performance, reading from multiple files at once and\n",
    "    # disregarding data order. Order does not matter since we will be shuffling the data anyway.\n",
    "\n",
    "    ignore_order = tf.data.Options()\n",
    "    if not ordered:\n",
    "        ignore_order.experimental_deterministic = False # disable order, increase speed\n",
    "\n",
    "    dataset = tf.data.TFRecordDataset(filenames) # automatically interleaves reads from multiple files\n",
    "    dataset = dataset.with_options(ignore_order) # uses data as soon as it streams in, rather than in its original order\n",
    "    dataset = dataset.map(read_labeled_tfrecord if labeled else read_unlabeled_tfrecord)\n",
    "    # returns a dataset of (image, label) pairs if labeled=True or (image, id) pairs if labeled=False\n",
    "    return dataset\n",
    "\n",
    "def get_training_dataset():\n",
    "    dataset = load_dataset(tf.io.gfile.glob(GCS_DS_PATH + '/tfrecords-jpeg-331x331/train/*.tfrec'), labeled=True)\n",
    "    # Augmentation\n",
    "    dataset = dataset.map(data_augment, num_parallel_calls=tf.data.AUTOTUNE)\n",
    "    dataset = dataset.repeat() # the training dataset must repeat for several epochs\n",
    "    dataset = dataset.shuffle(2048)\n",
    "    dataset = dataset.batch(BATCH_SIZE)\n",
    "    dataset = dataset.prefetch(tf.data.AUTOTUNE)\n",
    "    return dataset\n",
    "\n",
    "def get_validation_dataset():\n",
    "    dataset = load_dataset(tf.io.gfile.glob(GCS_DS_PATH + '/tfrecords-jpeg-331x331/val/*.tfrec'), labeled=True, ordered=False)\n",
    "    dataset = dataset.batch(BATCH_SIZE)\n",
    "    dataset = dataset.prefetch(tf.data.AUTOTUNE)\n",
    "    return dataset\n",
    "\n",
    "def get_test_dataset(ordered=False):\n",
    "    dataset = load_dataset(tf.io.gfile.glob(GCS_DS_PATH + '/tfrecords-jpeg-331x331/test/*.tfrec'), labeled=False, ordered=ordered)\n",
    "    dataset = dataset.batch(BATCH_SIZE)\n",
    "    dataset = dataset.prefetch(tf.data.AUTOTUNE)\n",
    "    return dataset\n",
    "def get_all_training_dataset():\n",
    "    dataset = load_dataset(tf.io.gfile.glob(GCS_DS_PATH + '/tfrecords-jpeg-331x331/train/*.tfrec') + tf.io.gfile.glob(GCS_DS_PATH + '/tfrecords-jpeg-331x331/val/*.tfrec')\n",
    ", labeled=True)\n",
    "    # Augmentation\n",
    "    dataset = dataset.map(data_augment, num_parallel_calls=tf.data.AUTOTUNE)\n",
    "    dataset = dataset.repeat() # the training dataset must repeat for several epochs\n",
    "    dataset = dataset.shuffle(2048)\n",
    "    dataset = dataset.batch(BATCH_SIZE)\n",
    "    dataset = dataset.prefetch(tf.data.AUTOTUNE)\n",
    "    return dataset\n",
    "\n",
    "training_dataset = get_training_dataset()\n",
    "validation_dataset = get_validation_dataset()\n",
    "all_training_dataset = get_all_training_dataset()"
   ]
  },
  {
   "cell_type": "code",
   "execution_count": 11,
   "id": "a1430ac1",
   "metadata": {
    "execution": {
     "iopub.execute_input": "2023-01-14T23:04:08.274901Z",
     "iopub.status.busy": "2023-01-14T23:04:08.274093Z",
     "iopub.status.idle": "2023-01-14T23:04:08.277158Z",
     "shell.execute_reply": "2023-01-14T23:04:08.277690Z"
    },
    "papermill": {
     "duration": 0.044346,
     "end_time": "2023-01-14T23:04:08.277875",
     "exception": false,
     "start_time": "2023-01-14T23:04:08.233529",
     "status": "completed"
    },
    "tags": []
   },
   "outputs": [],
   "source": [
    "## Xception"
   ]
  },
  {
   "cell_type": "code",
   "execution_count": 12,
   "id": "89053d59",
   "metadata": {
    "execution": {
     "iopub.execute_input": "2023-01-14T23:04:08.357594Z",
     "iopub.status.busy": "2023-01-14T23:04:08.356844Z",
     "iopub.status.idle": "2023-01-14T23:04:08.362988Z",
     "shell.execute_reply": "2023-01-14T23:04:08.362458Z"
    },
    "papermill": {
     "duration": 0.047163,
     "end_time": "2023-01-14T23:04:08.363139",
     "exception": false,
     "start_time": "2023-01-14T23:04:08.315976",
     "status": "completed"
    },
    "tags": []
   },
   "outputs": [
    {
     "data": {
      "text/plain": [
       "\"\\nwith strategy.scope():  \\n    base_model = xception.Xception(\\n        weights='imagenet',\\n        input_shape=(*IMAGE_SIZE, 3),\\n        include_top=False,\\n        pooling=None\\n    )\\n    base_model.trainable = False\\n    \\n    model = Sequential()\\n    model.add(base_model)\\n    model.add(GlobalAveragePooling2D())\\n    model.add(BatchNormalization())\\n    \\n    model.add(Dense(512, activation='relu'))\\n    model.add(BatchNormalization())\\n    model.add(Dropout(0.2))\\n\\n    model.add(Dense(104, activation='softmax'))\""
      ]
     },
     "execution_count": 12,
     "metadata": {},
     "output_type": "execute_result"
    }
   ],
   "source": [
    "\"\"\"\n",
    "with strategy.scope():  \n",
    "    base_model = xception.Xception(\n",
    "        weights='imagenet',\n",
    "        input_shape=(*IMAGE_SIZE, 3),\n",
    "        include_top=False,\n",
    "        pooling=None\n",
    "    )\n",
    "    base_model.trainable = False\n",
    "    \n",
    "    model = Sequential()\n",
    "    model.add(base_model)\n",
    "    model.add(GlobalAveragePooling2D())\n",
    "    model.add(BatchNormalization())\n",
    "    \n",
    "    model.add(Dense(512, activation='relu'))\n",
    "    model.add(BatchNormalization())\n",
    "    model.add(Dropout(0.2))\n",
    "\n",
    "    model.add(Dense(104, activation='softmax'))\"\"\""
   ]
  },
  {
   "cell_type": "markdown",
   "id": "61df4f6c",
   "metadata": {
    "papermill": {
     "duration": 0.037016,
     "end_time": "2023-01-14T23:04:08.438161",
     "exception": false,
     "start_time": "2023-01-14T23:04:08.401145",
     "status": "completed"
    },
    "tags": []
   },
   "source": [
    "## DenseNet"
   ]
  },
  {
   "cell_type": "code",
   "execution_count": 13,
   "id": "6466e306",
   "metadata": {
    "execution": {
     "iopub.execute_input": "2023-01-14T23:04:08.520709Z",
     "iopub.status.busy": "2023-01-14T23:04:08.519577Z",
     "iopub.status.idle": "2023-01-14T23:04:08.522028Z",
     "shell.execute_reply": "2023-01-14T23:04:08.522585Z",
     "shell.execute_reply.started": "2023-01-14T18:11:16.598504Z"
    },
    "papermill": {
     "duration": 0.047354,
     "end_time": "2023-01-14T23:04:08.522770",
     "exception": false,
     "start_time": "2023-01-14T23:04:08.475416",
     "status": "completed"
    },
    "tags": []
   },
   "outputs": [],
   "source": [
    "def DenseNet():\n",
    "    with strategy.scope():\n",
    "        rnet = DenseNet201(\n",
    "            input_shape=(IMAGE_SIZE[0], IMAGE_SIZE[1], 3),\n",
    "            weights='imagenet',\n",
    "            include_top=False\n",
    "        )\n",
    "        # trainable rnet\n",
    "        rnet.trainable = True\n",
    "        model = tf.keras.Sequential([\n",
    "            rnet,\n",
    "            tf.keras.layers.GlobalAveragePooling2D(),\n",
    "            tf.keras.layers.Dense(104, activation='softmax',dtype='float32')\n",
    "        ])\n",
    "    model.compile(\n",
    "    optimizer='adam',\n",
    "    loss = 'sparse_categorical_crossentropy',\n",
    "    metrics=['sparse_categorical_accuracy']\n",
    "    )\n",
    "    model.summary()\n",
    "    return model\n",
    "    "
   ]
  },
  {
   "cell_type": "code",
   "execution_count": 14,
   "id": "0dcbb984",
   "metadata": {
    "execution": {
     "iopub.execute_input": "2023-01-14T23:04:08.604162Z",
     "iopub.status.busy": "2023-01-14T23:04:08.603118Z",
     "iopub.status.idle": "2023-01-14T23:04:08.608887Z",
     "shell.execute_reply": "2023-01-14T23:04:08.609417Z",
     "shell.execute_reply.started": "2023-01-14T18:08:24.500589Z"
    },
    "papermill": {
     "duration": 0.047492,
     "end_time": "2023-01-14T23:04:08.609603",
     "exception": false,
     "start_time": "2023-01-14T23:04:08.562111",
     "status": "completed"
    },
    "tags": []
   },
   "outputs": [
    {
     "data": {
      "text/plain": [
       "\"\\nmodel.compile(\\n    optimizer=RMSprop(learning_rate=0.0005),\\n    loss='sparse_categorical_crossentropy',\\n    metrics=['sparse_categorical_accuracy']\\n)\""
      ]
     },
     "execution_count": 14,
     "metadata": {},
     "output_type": "execute_result"
    }
   ],
   "source": [
    "\n",
    "\"\"\"\n",
    "model.compile(\n",
    "    optimizer=RMSprop(learning_rate=0.0005),\n",
    "    loss='sparse_categorical_crossentropy',\n",
    "    metrics=['sparse_categorical_accuracy']\n",
    ")\"\"\""
   ]
  },
  {
   "cell_type": "code",
   "execution_count": 15,
   "id": "0edfec7f",
   "metadata": {
    "execution": {
     "iopub.execute_input": "2023-01-14T23:04:08.691097Z",
     "iopub.status.busy": "2023-01-14T23:04:08.690012Z",
     "iopub.status.idle": "2023-01-14T23:04:08.695411Z",
     "shell.execute_reply": "2023-01-14T23:04:08.695905Z"
    },
    "papermill": {
     "duration": 0.047457,
     "end_time": "2023-01-14T23:04:08.696078",
     "exception": false,
     "start_time": "2023-01-14T23:04:08.648621",
     "status": "completed"
    },
    "tags": []
   },
   "outputs": [
    {
     "data": {
      "text/plain": [
       "'model = DenseNet();\\nhistory = model.fit(training_dataset, \\n          steps_per_epoch=STEPS_PER_EPOCH, \\n          epochs=EPOCHS, \\n          callbacks = [lr_callback],\\n          validation_steps=VALIDATION_STEPS,\\n          validation_data=validation_dataset)'"
      ]
     },
     "execution_count": 15,
     "metadata": {},
     "output_type": "execute_result"
    }
   ],
   "source": [
    "\"\"\"model = DenseNet();\n",
    "history = model.fit(training_dataset, \n",
    "          steps_per_epoch=STEPS_PER_EPOCH, \n",
    "          epochs=EPOCHS, \n",
    "          callbacks = [lr_callback],\n",
    "          validation_steps=VALIDATION_STEPS,\n",
    "          validation_data=validation_dataset)\"\"\""
   ]
  },
  {
   "cell_type": "code",
   "execution_count": 16,
   "id": "0a855dfc",
   "metadata": {
    "execution": {
     "iopub.execute_input": "2023-01-14T23:04:08.776913Z",
     "iopub.status.busy": "2023-01-14T23:04:08.775943Z",
     "iopub.status.idle": "2023-01-14T23:04:08.782166Z",
     "shell.execute_reply": "2023-01-14T23:04:08.782671Z"
    },
    "papermill": {
     "duration": 0.048479,
     "end_time": "2023-01-14T23:04:08.782856",
     "exception": false,
     "start_time": "2023-01-14T23:04:08.734377",
     "status": "completed"
    },
    "tags": []
   },
   "outputs": [],
   "source": [
    "def EfficientNetb7():\n",
    "    with strategy.scope():\n",
    "        enet = efn.EfficientNetB7(weights='noisy-student', \n",
    "                                include_top=False,\n",
    "                                pooling='avg',\n",
    "                                input_shape=(IMAGE_SIZE[0], IMAGE_SIZE[1], 3))\n",
    "        enet.trainable = True\n",
    "        model2 = tf.keras.Sequential([\n",
    "            enet,\n",
    "            tf.keras.layers.Dense(104, activation='softmax',dtype='float32')\n",
    "        ])\n",
    "    model2.compile(\n",
    "        optimizer='adam',\n",
    "        loss='sparse_categorical_crossentropy',\n",
    "        metrics=['sparse_categorical_accuracy']\n",
    "    )\n",
    "    model2.summary()\n",
    "    return model2\n",
    "    \n",
    "    "
   ]
  },
  {
   "cell_type": "code",
   "execution_count": 17,
   "id": "d189d99e",
   "metadata": {
    "execution": {
     "iopub.execute_input": "2023-01-14T23:04:08.864117Z",
     "iopub.status.busy": "2023-01-14T23:04:08.863046Z",
     "iopub.status.idle": "2023-01-14T23:04:08.868406Z",
     "shell.execute_reply": "2023-01-14T23:04:08.868926Z"
    },
    "papermill": {
     "duration": 0.048245,
     "end_time": "2023-01-14T23:04:08.869103",
     "exception": false,
     "start_time": "2023-01-14T23:04:08.820858",
     "status": "completed"
    },
    "tags": []
   },
   "outputs": [
    {
     "data": {
      "text/plain": [
       "'model2 = EfficientNetb7()\\nhistory2 = model2.fit(training_dataset, \\n          steps_per_epoch=STEPS_PER_EPOCH, \\n          epochs=EPOCHS, \\n          callbacks = [lr_callback],\\n          validation_data=validation_dataset)'"
      ]
     },
     "execution_count": 17,
     "metadata": {},
     "output_type": "execute_result"
    }
   ],
   "source": [
    "\"\"\"model2 = EfficientNetb7()\n",
    "history2 = model2.fit(training_dataset, \n",
    "          steps_per_epoch=STEPS_PER_EPOCH, \n",
    "          epochs=EPOCHS, \n",
    "          callbacks = [lr_callback],\n",
    "          validation_data=validation_dataset)\"\"\""
   ]
  },
  {
   "cell_type": "markdown",
   "id": "6a923414",
   "metadata": {
    "papermill": {
     "duration": 0.040901,
     "end_time": "2023-01-14T23:04:08.950084",
     "exception": false,
     "start_time": "2023-01-14T23:04:08.909183",
     "status": "completed"
    },
    "tags": []
   },
   "source": [
    "## Test Predict"
   ]
  },
  {
   "cell_type": "code",
   "execution_count": 18,
   "id": "e4c59628",
   "metadata": {
    "execution": {
     "iopub.execute_input": "2023-01-14T23:04:09.031269Z",
     "iopub.status.busy": "2023-01-14T23:04:09.030273Z",
     "iopub.status.idle": "2023-01-14T23:26:30.304141Z",
     "shell.execute_reply": "2023-01-14T23:26:30.303600Z"
    },
    "papermill": {
     "duration": 1341.315207,
     "end_time": "2023-01-14T23:26:30.304343",
     "exception": false,
     "start_time": "2023-01-14T23:04:08.989136",
     "status": "completed"
    },
    "tags": []
   },
   "outputs": [
    {
     "name": "stdout",
     "output_type": "stream",
     "text": [
      "Downloading data from https://github.com/qubvel/efficientnet/releases/download/v0.0.1/efficientnet-b7_noisy-student_notop.h5\n",
      "258072576/258068648 [==============================] - 1s 0us/step\n",
      "Model: \"sequential\"\n",
      "_________________________________________________________________\n",
      "Layer (type)                 Output Shape              Param #   \n",
      "=================================================================\n",
      "efficientnet-b7 (Functional) (None, 2560)              64097680  \n",
      "_________________________________________________________________\n",
      "dense (Dense)                (None, 104)               266344    \n",
      "=================================================================\n",
      "Total params: 64,364,024\n",
      "Trainable params: 64,053,304\n",
      "Non-trainable params: 310,720\n",
      "_________________________________________________________________\n",
      "Epoch 1/25\n",
      "\n",
      "Epoch 00001: LearningRateScheduler reducing learning rate to 1e-05.\n",
      "99/99 [==============================] - 224s 449ms/step - loss: 4.6370 - sparse_categorical_accuracy: 0.0199\n",
      "Epoch 2/25\n",
      "\n",
      "Epoch 00002: LearningRateScheduler reducing learning rate to 8.8e-05.\n",
      "99/99 [==============================] - 45s 449ms/step - loss: 4.1061 - sparse_categorical_accuracy: 0.1728\n",
      "Epoch 3/25\n",
      "\n",
      "Epoch 00003: LearningRateScheduler reducing learning rate to 0.000166.\n",
      "99/99 [==============================] - 45s 451ms/step - loss: 2.2024 - sparse_categorical_accuracy: 0.5006\n",
      "Epoch 4/25\n",
      "\n",
      "Epoch 00004: LearningRateScheduler reducing learning rate to 0.000244.\n",
      "99/99 [==============================] - 45s 450ms/step - loss: 1.0581 - sparse_categorical_accuracy: 0.7374\n",
      "Epoch 5/25\n",
      "\n",
      "Epoch 00005: LearningRateScheduler reducing learning rate to 0.000322.\n",
      "99/99 [==============================] - 45s 450ms/step - loss: 0.6933 - sparse_categorical_accuracy: 0.8240\n",
      "Epoch 6/25\n",
      "\n",
      "Epoch 00006: LearningRateScheduler reducing learning rate to 0.0004.\n",
      "99/99 [==============================] - 45s 451ms/step - loss: 0.5556 - sparse_categorical_accuracy: 0.8577\n",
      "Epoch 7/25\n",
      "\n",
      "Epoch 00007: LearningRateScheduler reducing learning rate to 0.000322.\n",
      "99/99 [==============================] - 45s 452ms/step - loss: 0.4469 - sparse_categorical_accuracy: 0.8842\n",
      "Epoch 8/25\n",
      "\n",
      "Epoch 00008: LearningRateScheduler reducing learning rate to 0.0002596000000000001.\n",
      "99/99 [==============================] - 45s 451ms/step - loss: 0.3121 - sparse_categorical_accuracy: 0.9127\n",
      "Epoch 9/25\n",
      "\n",
      "Epoch 00009: LearningRateScheduler reducing learning rate to 0.00020968000000000004.\n",
      "99/99 [==============================] - 45s 450ms/step - loss: 0.2504 - sparse_categorical_accuracy: 0.9326\n",
      "Epoch 10/25\n",
      "\n",
      "Epoch 00010: LearningRateScheduler reducing learning rate to 0.00016974400000000002.\n",
      "99/99 [==============================] - 45s 452ms/step - loss: 0.1866 - sparse_categorical_accuracy: 0.9484\n",
      "Epoch 11/25\n",
      "\n",
      "Epoch 00011: LearningRateScheduler reducing learning rate to 0.00013779520000000003.\n",
      "99/99 [==============================] - 45s 452ms/step - loss: 0.1627 - sparse_categorical_accuracy: 0.9574\n",
      "Epoch 12/25\n",
      "\n",
      "Epoch 00012: LearningRateScheduler reducing learning rate to 0.00011223616000000004.\n",
      "99/99 [==============================] - 45s 451ms/step - loss: 0.1493 - sparse_categorical_accuracy: 0.9628\n",
      "Epoch 13/25\n",
      "\n",
      "Epoch 00013: LearningRateScheduler reducing learning rate to 9.178892800000003e-05.\n",
      "99/99 [==============================] - 45s 451ms/step - loss: 0.1289 - sparse_categorical_accuracy: 0.9650\n",
      "Epoch 14/25\n",
      "\n",
      "Epoch 00014: LearningRateScheduler reducing learning rate to 7.543114240000003e-05.\n",
      "99/99 [==============================] - 45s 452ms/step - loss: 0.1209 - sparse_categorical_accuracy: 0.9705\n",
      "Epoch 15/25\n",
      "\n",
      "Epoch 00015: LearningRateScheduler reducing learning rate to 6.234491392000002e-05.\n",
      "99/99 [==============================] - 45s 453ms/step - loss: 0.1150 - sparse_categorical_accuracy: 0.9665\n",
      "Epoch 16/25\n",
      "\n",
      "Epoch 00016: LearningRateScheduler reducing learning rate to 5.1875931136000024e-05.\n",
      "99/99 [==============================] - 45s 451ms/step - loss: 0.1013 - sparse_categorical_accuracy: 0.9737\n",
      "Epoch 17/25\n",
      "\n",
      "Epoch 00017: LearningRateScheduler reducing learning rate to 4.3500744908800015e-05.\n",
      "99/99 [==============================] - 45s 452ms/step - loss: 0.0892 - sparse_categorical_accuracy: 0.9784\n",
      "Epoch 18/25\n",
      "\n",
      "Epoch 00018: LearningRateScheduler reducing learning rate to 3.6800595927040014e-05.\n",
      "99/99 [==============================] - 45s 452ms/step - loss: 0.0923 - sparse_categorical_accuracy: 0.9747\n",
      "Epoch 19/25\n",
      "\n",
      "Epoch 00019: LearningRateScheduler reducing learning rate to 3.1440476741632015e-05.\n",
      "99/99 [==============================] - 45s 453ms/step - loss: 0.0797 - sparse_categorical_accuracy: 0.9796\n",
      "Epoch 20/25\n",
      "\n",
      "Epoch 00020: LearningRateScheduler reducing learning rate to 2.7152381393305616e-05.\n",
      "99/99 [==============================] - 45s 452ms/step - loss: 0.0762 - sparse_categorical_accuracy: 0.9798\n",
      "Epoch 21/25\n",
      "\n",
      "Epoch 00021: LearningRateScheduler reducing learning rate to 2.3721905114644494e-05.\n",
      "99/99 [==============================] - 45s 452ms/step - loss: 0.0763 - sparse_categorical_accuracy: 0.9804\n",
      "Epoch 22/25\n",
      "\n",
      "Epoch 00022: LearningRateScheduler reducing learning rate to 2.0977524091715595e-05.\n",
      "99/99 [==============================] - 45s 452ms/step - loss: 0.0683 - sparse_categorical_accuracy: 0.9821\n",
      "Epoch 23/25\n",
      "\n",
      "Epoch 00023: LearningRateScheduler reducing learning rate to 1.8782019273372477e-05.\n",
      "99/99 [==============================] - 45s 452ms/step - loss: 0.0672 - sparse_categorical_accuracy: 0.9824\n",
      "Epoch 24/25\n",
      "\n",
      "Epoch 00024: LearningRateScheduler reducing learning rate to 1.702561541869798e-05.\n",
      "99/99 [==============================] - 45s 452ms/step - loss: 0.0614 - sparse_categorical_accuracy: 0.9835\n",
      "Epoch 25/25\n",
      "\n",
      "Epoch 00025: LearningRateScheduler reducing learning rate to 1.5620492334958385e-05.\n",
      "99/99 [==============================] - 45s 451ms/step - loss: 0.0669 - sparse_categorical_accuracy: 0.9832\n"
     ]
    }
   ],
   "source": [
    "model3 = EfficientNetb7()\n",
    "history3 = model3.fit(all_training_dataset, \n",
    "          steps_per_epoch=STEPS_PER_EPOCH, \n",
    "          epochs=EPOCHS, \n",
    "          callbacks = [lr_callback])"
   ]
  },
  {
   "cell_type": "code",
   "execution_count": 19,
   "id": "4acaf866",
   "metadata": {
    "execution": {
     "iopub.execute_input": "2023-01-14T23:26:31.855813Z",
     "iopub.status.busy": "2023-01-14T23:26:31.854734Z",
     "iopub.status.idle": "2023-01-14T23:41:46.867471Z",
     "shell.execute_reply": "2023-01-14T23:41:46.866762Z"
    },
    "papermill": {
     "duration": 915.791997,
     "end_time": "2023-01-14T23:41:46.867629",
     "exception": false,
     "start_time": "2023-01-14T23:26:31.075632",
     "status": "completed"
    },
    "tags": []
   },
   "outputs": [
    {
     "name": "stdout",
     "output_type": "stream",
     "text": [
      "Downloading data from https://storage.googleapis.com/tensorflow/keras-applications/densenet/densenet201_weights_tf_dim_ordering_tf_kernels_notop.h5\n",
      "74842112/74836368 [==============================] - 0s 0us/step\n",
      "Model: \"sequential_1\"\n",
      "_________________________________________________________________\n",
      "Layer (type)                 Output Shape              Param #   \n",
      "=================================================================\n",
      "densenet201 (Functional)     (None, 10, 10, 1920)      18321984  \n",
      "_________________________________________________________________\n",
      "global_average_pooling2d (Gl (None, 1920)              0         \n",
      "_________________________________________________________________\n",
      "dense_1 (Dense)              (None, 104)               199784    \n",
      "=================================================================\n",
      "Total params: 18,521,768\n",
      "Trainable params: 18,292,712\n",
      "Non-trainable params: 229,056\n",
      "_________________________________________________________________\n",
      "Epoch 1/25\n",
      "\n",
      "Epoch 00001: LearningRateScheduler reducing learning rate to 1e-05.\n",
      "99/99 [==============================] - 182s 291ms/step - loss: 4.4818 - sparse_categorical_accuracy: 0.0812\n",
      "Epoch 2/25\n",
      "\n",
      "Epoch 00002: LearningRateScheduler reducing learning rate to 8.8e-05.\n",
      "99/99 [==============================] - 29s 292ms/step - loss: 2.4175 - sparse_categorical_accuracy: 0.4923\n",
      "Epoch 3/25\n",
      "\n",
      "Epoch 00003: LearningRateScheduler reducing learning rate to 0.000166.\n",
      "99/99 [==============================] - 29s 293ms/step - loss: 0.8985 - sparse_categorical_accuracy: 0.8048\n",
      "Epoch 4/25\n",
      "\n",
      "Epoch 00004: LearningRateScheduler reducing learning rate to 0.000244.\n",
      "99/99 [==============================] - 29s 296ms/step - loss: 0.5295 - sparse_categorical_accuracy: 0.8790\n",
      "Epoch 5/25\n",
      "\n",
      "Epoch 00005: LearningRateScheduler reducing learning rate to 0.000322.\n",
      "99/99 [==============================] - 29s 296ms/step - loss: 0.3992 - sparse_categorical_accuracy: 0.9065\n",
      "Epoch 6/25\n",
      "\n",
      "Epoch 00006: LearningRateScheduler reducing learning rate to 0.0004.\n",
      "99/99 [==============================] - 29s 294ms/step - loss: 0.3405 - sparse_categorical_accuracy: 0.9174\n",
      "Epoch 7/25\n",
      "\n",
      "Epoch 00007: LearningRateScheduler reducing learning rate to 0.000322.\n",
      "99/99 [==============================] - 29s 290ms/step - loss: 0.2522 - sparse_categorical_accuracy: 0.9359\n",
      "Epoch 8/25\n",
      "\n",
      "Epoch 00008: LearningRateScheduler reducing learning rate to 0.0002596000000000001.\n",
      "99/99 [==============================] - 29s 293ms/step - loss: 0.1686 - sparse_categorical_accuracy: 0.9601\n",
      "Epoch 9/25\n",
      "\n",
      "Epoch 00009: LearningRateScheduler reducing learning rate to 0.00020968000000000004.\n",
      "99/99 [==============================] - 29s 292ms/step - loss: 0.1041 - sparse_categorical_accuracy: 0.9741\n",
      "Epoch 10/25\n",
      "\n",
      "Epoch 00010: LearningRateScheduler reducing learning rate to 0.00016974400000000002.\n",
      "99/99 [==============================] - 29s 290ms/step - loss: 0.0680 - sparse_categorical_accuracy: 0.9854\n",
      "Epoch 11/25\n",
      "\n",
      "Epoch 00011: LearningRateScheduler reducing learning rate to 0.00013779520000000003.\n",
      "99/99 [==============================] - 29s 291ms/step - loss: 0.0519 - sparse_categorical_accuracy: 0.9904\n",
      "Epoch 12/25\n",
      "\n",
      "Epoch 00012: LearningRateScheduler reducing learning rate to 0.00011223616000000004.\n",
      "99/99 [==============================] - 29s 291ms/step - loss: 0.0367 - sparse_categorical_accuracy: 0.9926\n",
      "Epoch 13/25\n",
      "\n",
      "Epoch 00013: LearningRateScheduler reducing learning rate to 9.178892800000003e-05.\n",
      "99/99 [==============================] - 29s 292ms/step - loss: 0.0286 - sparse_categorical_accuracy: 0.9956\n",
      "Epoch 14/25\n",
      "\n",
      "Epoch 00014: LearningRateScheduler reducing learning rate to 7.543114240000003e-05.\n",
      "99/99 [==============================] - 29s 292ms/step - loss: 0.0206 - sparse_categorical_accuracy: 0.9974\n",
      "Epoch 15/25\n",
      "\n",
      "Epoch 00015: LearningRateScheduler reducing learning rate to 6.234491392000002e-05.\n",
      "99/99 [==============================] - 29s 290ms/step - loss: 0.0195 - sparse_categorical_accuracy: 0.9974\n",
      "Epoch 16/25\n",
      "\n",
      "Epoch 00016: LearningRateScheduler reducing learning rate to 5.1875931136000024e-05.\n",
      "99/99 [==============================] - 29s 292ms/step - loss: 0.0159 - sparse_categorical_accuracy: 0.9989\n",
      "Epoch 17/25\n",
      "\n",
      "Epoch 00017: LearningRateScheduler reducing learning rate to 4.3500744908800015e-05.\n",
      "99/99 [==============================] - 29s 292ms/step - loss: 0.0157 - sparse_categorical_accuracy: 0.9980\n",
      "Epoch 18/25\n",
      "\n",
      "Epoch 00018: LearningRateScheduler reducing learning rate to 3.6800595927040014e-05.\n",
      "99/99 [==============================] - 29s 291ms/step - loss: 0.0137 - sparse_categorical_accuracy: 0.9988\n",
      "Epoch 19/25\n",
      "\n",
      "Epoch 00019: LearningRateScheduler reducing learning rate to 3.1440476741632015e-05.\n",
      "99/99 [==============================] - 28s 287ms/step - loss: 0.0137 - sparse_categorical_accuracy: 0.9986\n",
      "Epoch 20/25\n",
      "\n",
      "Epoch 00020: LearningRateScheduler reducing learning rate to 2.7152381393305616e-05.\n",
      "99/99 [==============================] - 29s 291ms/step - loss: 0.0122 - sparse_categorical_accuracy: 0.9988\n",
      "Epoch 21/25\n",
      "\n",
      "Epoch 00021: LearningRateScheduler reducing learning rate to 2.3721905114644494e-05.\n",
      "99/99 [==============================] - 29s 292ms/step - loss: 0.0109 - sparse_categorical_accuracy: 0.9991\n",
      "Epoch 22/25\n",
      "\n",
      "Epoch 00022: LearningRateScheduler reducing learning rate to 2.0977524091715595e-05.\n",
      "99/99 [==============================] - 29s 291ms/step - loss: 0.0105 - sparse_categorical_accuracy: 0.9990\n",
      "Epoch 23/25\n",
      "\n",
      "Epoch 00023: LearningRateScheduler reducing learning rate to 1.8782019273372477e-05.\n",
      "99/99 [==============================] - 29s 288ms/step - loss: 0.0091 - sparse_categorical_accuracy: 0.9993\n",
      "Epoch 24/25\n",
      "\n",
      "Epoch 00024: LearningRateScheduler reducing learning rate to 1.702561541869798e-05.\n",
      "99/99 [==============================] - 29s 289ms/step - loss: 0.0086 - sparse_categorical_accuracy: 0.9994\n",
      "Epoch 25/25\n",
      "\n",
      "Epoch 00025: LearningRateScheduler reducing learning rate to 1.5620492334958385e-05.\n",
      "99/99 [==============================] - 29s 292ms/step - loss: 0.0096 - sparse_categorical_accuracy: 0.9992\n"
     ]
    }
   ],
   "source": [
    "model4 = DenseNet();\n",
    "history = model4.fit(all_training_dataset, \n",
    "          steps_per_epoch=STEPS_PER_EPOCH, \n",
    "          epochs=EPOCHS, \n",
    "          callbacks = [lr_callback])"
   ]
  },
  {
   "cell_type": "code",
   "execution_count": 20,
   "id": "b3efb066",
   "metadata": {
    "execution": {
     "iopub.execute_input": "2023-01-14T23:41:49.855257Z",
     "iopub.status.busy": "2023-01-14T23:41:49.851509Z",
     "iopub.status.idle": "2023-01-14T23:41:49.857109Z",
     "shell.execute_reply": "2023-01-14T23:41:49.857728Z"
    },
    "papermill": {
     "duration": 1.517144,
     "end_time": "2023-01-14T23:41:49.857932",
     "exception": false,
     "start_time": "2023-01-14T23:41:48.340788",
     "status": "completed"
    },
    "tags": []
   },
   "outputs": [],
   "source": [
    "def run_inference(model):\n",
    "    test_ds = get_test_dataset(ordered=True) # since we are splitting the dataset and iterating separately on images and ids, order matters.\n",
    "    test_images_ds = test_ds.map(lambda image, idnum: image)\n",
    "    preds = model.predict(test_images_ds,verbose=0, steps=TEST_STEPS)\n",
    "    return preds"
   ]
  },
  {
   "cell_type": "code",
   "execution_count": 21,
   "id": "4c9b1058",
   "metadata": {
    "execution": {
     "iopub.execute_input": "2023-01-14T23:41:52.847536Z",
     "iopub.status.busy": "2023-01-14T23:41:52.846814Z",
     "iopub.status.idle": "2023-01-14T23:43:52.003429Z",
     "shell.execute_reply": "2023-01-14T23:43:52.004169Z"
    },
    "papermill": {
     "duration": 120.629824,
     "end_time": "2023-01-14T23:43:52.004433",
     "exception": false,
     "start_time": "2023-01-14T23:41:51.374609",
     "status": "completed"
    },
    "tags": []
   },
   "outputs": [
    {
     "name": "stderr",
     "output_type": "stream",
     "text": [
      "2023-01-14 23:41:52.850493: I tensorflow/core/platform/cloud/google_auth_provider.cc:180] Attempting an empty bearer token since no token was retrieved from files, and GCE metadata check was skipped.\n",
      "2023-01-14 23:41:53.014651: I tensorflow/core/platform/cloud/google_auth_provider.cc:180] Attempting an empty bearer token since no token was retrieved from files, and GCE metadata check was skipped.\n"
     ]
    },
    {
     "name": "stdout",
     "output_type": "stream",
     "text": [
      "Calculating predictions...\n"
     ]
    },
    {
     "name": "stderr",
     "output_type": "stream",
     "text": [
      "2023-01-14 23:42:46.255168: I tensorflow/core/platform/cloud/google_auth_provider.cc:180] Attempting an empty bearer token since no token was retrieved from files, and GCE metadata check was skipped.\n"
     ]
    },
    {
     "name": "stdout",
     "output_type": "stream",
     "text": [
      "Generating submission file...\n"
     ]
    }
   ],
   "source": [
    "test_ds = get_test_dataset(ordered=True) # since we are splitting the dataset and iterating separately on images and ids, order matters.\n",
    "\n",
    "print('Calculating predictions...')\n",
    "probs1 = run_inference(model3)\n",
    "probs2 = run_inference(model4)\n",
    "probabilities = (probs1 + probs2)/2\n",
    "predictions = np.argmax(probabilities, axis=-1)\n",
    "\n",
    "print('Generating submission file...')\n",
    "test_ids_ds = test_ds.map(lambda image, idnum: idnum).unbatch()\n",
    "test_ids = next(iter(test_ids_ds.batch(NUM_TEST_IMAGES))).numpy().astype('U') # all in one batch\n",
    "np.savetxt('submission.csv', np.rec.fromarrays([test_ids, predictions]), fmt=['%s', '%d'], delimiter=',', header='id,label', comments='')"
   ]
  },
  {
   "cell_type": "code",
   "execution_count": null,
   "id": "7a70fe50",
   "metadata": {
    "papermill": {
     "duration": 1.474412,
     "end_time": "2023-01-14T23:43:55.014157",
     "exception": false,
     "start_time": "2023-01-14T23:43:53.539745",
     "status": "completed"
    },
    "tags": []
   },
   "outputs": [],
   "source": []
  },
  {
   "cell_type": "code",
   "execution_count": null,
   "id": "74280517",
   "metadata": {
    "papermill": {
     "duration": 1.47235,
     "end_time": "2023-01-14T23:43:57.961789",
     "exception": false,
     "start_time": "2023-01-14T23:43:56.489439",
     "status": "completed"
    },
    "tags": []
   },
   "outputs": [],
   "source": []
  },
  {
   "cell_type": "code",
   "execution_count": 22,
   "id": "70b148ba",
   "metadata": {
    "execution": {
     "iopub.execute_input": "2023-01-14T23:44:00.987111Z",
     "iopub.status.busy": "2023-01-14T23:44:00.986464Z",
     "iopub.status.idle": "2023-01-14T23:44:00.988876Z",
     "shell.execute_reply": "2023-01-14T23:44:00.989815Z"
    },
    "papermill": {
     "duration": 1.556175,
     "end_time": "2023-01-14T23:44:00.990003",
     "exception": false,
     "start_time": "2023-01-14T23:43:59.433828",
     "status": "completed"
    },
    "tags": []
   },
   "outputs": [
    {
     "data": {
      "text/plain": [
       "\"plt.plot(history.history['loss'])\\nplt.plot(history.history['val_loss'])\\nplt.legend(['loss', 'val_loss'])\\nplt.title('Model loss')\\nplt.show()\""
      ]
     },
     "execution_count": 22,
     "metadata": {},
     "output_type": "execute_result"
    }
   ],
   "source": [
    "\"\"\"plt.plot(history.history['loss'])\n",
    "plt.plot(history.history['val_loss'])\n",
    "plt.legend(['loss', 'val_loss'])\n",
    "plt.title('Model loss')\n",
    "plt.show()\"\"\""
   ]
  },
  {
   "cell_type": "code",
   "execution_count": 23,
   "id": "e71cd40e",
   "metadata": {
    "execution": {
     "iopub.execute_input": "2023-01-14T23:44:03.926142Z",
     "iopub.status.busy": "2023-01-14T23:44:03.925452Z",
     "iopub.status.idle": "2023-01-14T23:44:03.929690Z",
     "shell.execute_reply": "2023-01-14T23:44:03.930181Z"
    },
    "papermill": {
     "duration": 1.475758,
     "end_time": "2023-01-14T23:44:03.930378",
     "exception": false,
     "start_time": "2023-01-14T23:44:02.454620",
     "status": "completed"
    },
    "tags": []
   },
   "outputs": [
    {
     "data": {
      "text/plain": [
       "\"plt.plot(history.history['sparse_categorical_accuracy'])\\nplt.plot(history.history['val_sparse_categorical_accuracy'])\\nplt.legend(['sparse_categorical_accuracy', 'val_sparse_categorical_accuracy'])\\nplt.title('Model accuracy')\\nplt.show()\""
      ]
     },
     "execution_count": 23,
     "metadata": {},
     "output_type": "execute_result"
    }
   ],
   "source": [
    "\"\"\"plt.plot(history.history['sparse_categorical_accuracy'])\n",
    "plt.plot(history.history['val_sparse_categorical_accuracy'])\n",
    "plt.legend(['sparse_categorical_accuracy', 'val_sparse_categorical_accuracy'])\n",
    "plt.title('Model accuracy')\n",
    "plt.show()\"\"\""
   ]
  },
  {
   "cell_type": "code",
   "execution_count": 24,
   "id": "8dcbc41b",
   "metadata": {
    "execution": {
     "iopub.execute_input": "2023-01-14T23:44:06.914751Z",
     "iopub.status.busy": "2023-01-14T23:44:06.914085Z",
     "iopub.status.idle": "2023-01-14T23:44:06.919589Z",
     "shell.execute_reply": "2023-01-14T23:44:06.920191Z"
    },
    "papermill": {
     "duration": 1.519876,
     "end_time": "2023-01-14T23:44:06.920419",
     "exception": false,
     "start_time": "2023-01-14T23:44:05.400543",
     "status": "completed"
    },
    "tags": []
   },
   "outputs": [
    {
     "data": {
      "text/plain": [
       "'history = model.fit(all_training_dataset, \\n          steps_per_epoch=STEPS_PER_EPOCH, \\n          epochs=EPOCHS, \\n          callbacks = [lr_callback])'"
      ]
     },
     "execution_count": 24,
     "metadata": {},
     "output_type": "execute_result"
    }
   ],
   "source": [
    "\"\"\"history = model.fit(all_training_dataset, \n",
    "          steps_per_epoch=STEPS_PER_EPOCH, \n",
    "          epochs=EPOCHS, \n",
    "          callbacks = [lr_callback])\"\"\""
   ]
  },
  {
   "cell_type": "code",
   "execution_count": 25,
   "id": "86e166d9",
   "metadata": {
    "execution": {
     "iopub.execute_input": "2023-01-14T23:44:09.989891Z",
     "iopub.status.busy": "2023-01-14T23:44:09.989278Z",
     "iopub.status.idle": "2023-01-14T23:44:09.994045Z",
     "shell.execute_reply": "2023-01-14T23:44:09.994536Z"
    },
    "papermill": {
     "duration": 1.505377,
     "end_time": "2023-01-14T23:44:09.994697",
     "exception": false,
     "start_time": "2023-01-14T23:44:08.489320",
     "status": "completed"
    },
    "tags": []
   },
   "outputs": [
    {
     "data": {
      "text/plain": [
       "'\\nfrom tensorflow import keras\\nCheckpoint=tf.keras.callbacks.ModelCheckpoint(f\"Dnet_model.h5\", monitor=\\'val_accuracy\\', verbose=1, save_best_only=True,\\n       save_weights_only=True,mode=\\'max\\')\\nhistory = model.fit(training_dataset, \\n          steps_per_epoch=STEPS_PER_EPOCH, \\n          epochs=EPOCHS, \\n          callbacks = [lr_callback, Checkpoint, keras.callbacks.EarlyStopping(\\n        # Stop training when `val_loss` is no longer improving\\n        monitor=\"val_loss\",\\n        # \"no longer improving\" being defined as \"no better than 1e-2 less\"\\n        min_delta=1e-2,\\n        # \"no longer improving\" being further defined as \"for at least 2 epochs\"\\n        patience=2\\n    )],\\n          validation_data=validation_dataset)'"
      ]
     },
     "execution_count": 25,
     "metadata": {},
     "output_type": "execute_result"
    }
   ],
   "source": [
    "\"\"\"\n",
    "from tensorflow import keras\n",
    "Checkpoint=tf.keras.callbacks.ModelCheckpoint(f\"Dnet_model.h5\", monitor='val_accuracy', verbose=1, save_best_only=True,\n",
    "       save_weights_only=True,mode='max')\n",
    "history = model.fit(training_dataset, \n",
    "          steps_per_epoch=STEPS_PER_EPOCH, \n",
    "          epochs=EPOCHS, \n",
    "          callbacks = [lr_callback, Checkpoint, keras.callbacks.EarlyStopping(\n",
    "        # Stop training when `val_loss` is no longer improving\n",
    "        monitor=\"val_loss\",\n",
    "        # \"no longer improving\" being defined as \"no better than 1e-2 less\"\n",
    "        min_delta=1e-2,\n",
    "        # \"no longer improving\" being further defined as \"for at least 2 epochs\"\n",
    "        patience=2\n",
    "    )],\n",
    "          validation_data=validation_dataset)\"\"\""
   ]
  },
  {
   "cell_type": "code",
   "execution_count": 26,
   "id": "0c2319cb",
   "metadata": {
    "execution": {
     "iopub.execute_input": "2023-01-14T23:44:12.964564Z",
     "iopub.status.busy": "2023-01-14T23:44:12.963905Z",
     "iopub.status.idle": "2023-01-14T23:44:12.968293Z",
     "shell.execute_reply": "2023-01-14T23:44:12.968811Z"
    },
    "papermill": {
     "duration": 1.514736,
     "end_time": "2023-01-14T23:44:12.968982",
     "exception": false,
     "start_time": "2023-01-14T23:44:11.454246",
     "status": "completed"
    },
    "tags": []
   },
   "outputs": [
    {
     "data": {
      "text/plain": [
       "'\\ntest_dataset = get_test_dataset(ordered=True)\\n\\ntest_images_dataset = test_dataset.map(lambda image, idnum: image)\\nprobabilities = model.predict(test_images_dataset)\\npredictions = np.argmax(probabilities, axis=-1)'"
      ]
     },
     "execution_count": 26,
     "metadata": {},
     "output_type": "execute_result"
    }
   ],
   "source": [
    "\"\"\"\n",
    "test_dataset = get_test_dataset(ordered=True)\n",
    "\n",
    "test_images_dataset = test_dataset.map(lambda image, idnum: image)\n",
    "probabilities = model.predict(test_images_dataset)\n",
    "predictions = np.argmax(probabilities, axis=-1)\"\"\""
   ]
  },
  {
   "cell_type": "code",
   "execution_count": 27,
   "id": "12ff1d32",
   "metadata": {
    "execution": {
     "iopub.execute_input": "2023-01-14T23:44:15.970443Z",
     "iopub.status.busy": "2023-01-14T23:44:15.969690Z",
     "iopub.status.idle": "2023-01-14T23:44:15.972325Z",
     "shell.execute_reply": "2023-01-14T23:44:15.972806Z"
    },
    "papermill": {
     "duration": 1.535521,
     "end_time": "2023-01-14T23:44:15.972972",
     "exception": false,
     "start_time": "2023-01-14T23:44:14.437451",
     "status": "completed"
    },
    "tags": []
   },
   "outputs": [
    {
     "data": {
      "text/plain": [
       "\"test_ids_dataset = test_dataset.map(lambda image, idnum: idnum).unbatch()\\ntest_ids = next(iter(test_ids_dataset.batch(NUM_TEST_IMAGES))).numpy().astype('U')\\n\\n# Write the submission file\\nnp.savetxt(\\n    'submission.csv',\\n    np.rec.fromarrays([test_ids, predictions]),\\n    fmt=['%s', '%d'],\\n    delimiter=',',\\n    header='id,label',\\n    comments='',\\n)\""
      ]
     },
     "execution_count": 27,
     "metadata": {},
     "output_type": "execute_result"
    }
   ],
   "source": [
    "\"\"\"test_ids_dataset = test_dataset.map(lambda image, idnum: idnum).unbatch()\n",
    "test_ids = next(iter(test_ids_dataset.batch(NUM_TEST_IMAGES))).numpy().astype('U')\n",
    "\n",
    "# Write the submission file\n",
    "np.savetxt(\n",
    "    'submission.csv',\n",
    "    np.rec.fromarrays([test_ids, predictions]),\n",
    "    fmt=['%s', '%d'],\n",
    "    delimiter=',',\n",
    "    header='id,label',\n",
    "    comments='',\n",
    ")\"\"\""
   ]
  }
 ],
 "metadata": {
  "kernelspec": {
   "display_name": "Python 3",
   "language": "python",
   "name": "python3"
  },
  "language_info": {
   "codemirror_mode": {
    "name": "ipython",
    "version": 3
   },
   "file_extension": ".py",
   "mimetype": "text/x-python",
   "name": "python",
   "nbconvert_exporter": "python",
   "pygments_lexer": "ipython3",
   "version": "3.7.10"
  },
  "papermill": {
   "default_parameters": {},
   "duration": 2459.301089,
   "end_time": "2023-01-14T23:44:20.368324",
   "environment_variables": {},
   "exception": null,
   "input_path": "__notebook__.ipynb",
   "output_path": "__notebook__.ipynb",
   "parameters": {},
   "start_time": "2023-01-14T23:03:21.067235",
   "version": "2.3.3"
  }
 },
 "nbformat": 4,
 "nbformat_minor": 5
}
