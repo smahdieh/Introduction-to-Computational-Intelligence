{
 "cells": [
  {
   "cell_type": "markdown",
   "metadata": {},
   "source": [
    "# Experiment 3: Multi Layer Perceptron\n",
    "***"
   ]
  },
  {
   "cell_type": "markdown",
   "metadata": {},
   "source": [
    "## Importing Libraries"
   ]
  },
  {
   "cell_type": "code",
   "execution_count": 1,
   "metadata": {},
   "outputs": [],
   "source": [
    "import numpy as np\n",
    "from sklearn.datasets import load_iris\n",
    "import matplotlib.pyplot as plt\n",
    "from sklearn.preprocessing import MinMaxScaler"
   ]
  },
  {
   "cell_type": "markdown",
   "metadata": {},
   "source": [
    "## Activation Functions"
   ]
  },
  {
   "cell_type": "code",
   "execution_count": 2,
   "metadata": {},
   "outputs": [],
   "source": [
    "def sigmoid_d(x):\n",
    "    return x * (1 - x)\n",
    "\n",
    "def sigmoid(x):\n",
    "    return 1 / (1+ np.exp(- x))"
   ]
  },
  {
   "cell_type": "markdown",
   "metadata": {},
   "source": [
    "## Perceptron Class"
   ]
  },
  {
   "cell_type": "code",
   "execution_count": 4,
   "metadata": {},
   "outputs": [],
   "source": [
    "class Perceptron:\n",
    "    def __init__(self, n_hidden, rate=0.5, seed=20):\n",
    "        self.rate = rate\n",
    "        self.rand = np.random.RandomState(seed)\n",
    "        self.n_hidden = n_hidden\n",
    "\n",
    "    def fit(self, x, y, epochs):\n",
    "        self.Wh = self.rand.rand(self.n_hidden, x.shape[1])\n",
    "        self.Bh = self.rand.rand(self.n_hidden)\n",
    "\n",
    "        self.Wo = self.rand.rand(self.n_hidden)\n",
    "        self.Bo = self.rand.rand(1)\n",
    "\n",
    "        for epoch in range(epochs):\n",
    "            error = 0\n",
    "\n",
    "            for i in range(x.shape[0]):\n",
    "                self.predict(x[i])\n",
    "\n",
    "                error += (self.I - y[i])**2\n",
    "\n",
    "                Eo = (self.I - y[i]) * sigmoid_d(self.I)\n",
    "                Eh = Eo * self.Wo * sigmoid_d(self.H)\n",
    "\n",
    "                dWo = Eo * self.H\n",
    "                dWh = Eh * x[i]\n",
    "\n",
    "                self.Wh -= self.rate * dWh\n",
    "                self.Wo -= self.rate * dWo\n",
    "                self.Bh -= self.rate * Eh\n",
    "                self.Bo -= self.rate * Eo\n",
    "            \n",
    "            if epoch % 100 == 0:\n",
    "                print(epoch, error)\n",
    "                \n",
    "\n",
    "    def predict(self, x):\n",
    "        self.Zh = np.dot(self.Wh, x) + self.Bh\n",
    "        self.H = sigmoid(self.Zh)\n",
    "\n",
    "        self.Zo = np.dot(self.H, self.Wo) + self.Bo\n",
    "\n",
    "        self.I = sigmoid(self.Zo)\n",
    "\n",
    "        return self.I"
   ]
  },
  {
   "cell_type": "markdown",
   "metadata": {},
   "source": [
    "## XOR Data"
   ]
  },
  {
   "cell_type": "code",
   "execution_count": 5,
   "metadata": {},
   "outputs": [],
   "source": [
    "x = np.array([\n",
    "    np.array([0, 0]),\n",
    "    np.array([1, 0]), \n",
    "    np.array([0, 1]),\n",
    "    np.array([1, 1])\n",
    "])\n",
    "\n",
    "y = np.array([\n",
    "    np.array([0]),\n",
    "    np.array([1]),\n",
    "    np.array([1]), \n",
    "    np.array([0])\n",
    "])"
   ]
  },
  {
   "cell_type": "markdown",
   "metadata": {},
   "source": [
    "## Train Model"
   ]
  },
  {
   "cell_type": "code",
   "execution_count": 6,
   "metadata": {},
   "outputs": [
    {
     "name": "stdout",
     "output_type": "stream",
     "text": [
      "0 [1.33363987]\n",
      "100 [1.06338946]\n",
      "200 [1.0596495]\n",
      "300 [1.05705995]\n",
      "400 [1.05584111]\n",
      "500 [1.05576146]\n",
      "600 [1.05586407]\n",
      "700 [1.05563714]\n",
      "800 [1.05511106]\n",
      "900 [1.05436827]\n",
      "1000 [1.0533389]\n",
      "1100 [1.05170121]\n",
      "1200 [1.04866115]\n",
      "1300 [1.04229126]\n",
      "1400 [1.02693742]\n",
      "1500 [0.97973172]\n",
      "1600 [0.79035554]\n",
      "1700 [0.3679806]\n",
      "1800 [0.15115208]\n",
      "1900 [0.0817816]\n"
     ]
    }
   ],
   "source": [
    "clf = Perceptron(n_hidden=2)\n",
    "clf.fit(x, y, 2000)"
   ]
  },
  {
   "cell_type": "markdown",
   "metadata": {},
   "source": [
    "## Results"
   ]
  },
  {
   "cell_type": "code",
   "execution_count": 7,
   "metadata": {},
   "outputs": [
    {
     "name": "stdout",
     "output_type": "stream",
     "text": [
      "*** RESULTS ***\n",
      "Y: [0], predict: [0.12508201]\n",
      "Y: [1], predict: [0.90447008]\n",
      "Y: [1], predict: [0.87600248]\n",
      "Y: [0], predict: [0.1118966]\n"
     ]
    }
   ],
   "source": [
    "print('*** RESULTS ***')\n",
    "for i in range(x.shape[0]):\n",
    "    print(f'Y: {y[i]}, predict: {clf.predict(x[i])}')"
   ]
  },
  {
   "cell_type": "code",
   "execution_count": null,
   "metadata": {},
   "outputs": [],
   "source": []
  },
  {
   "cell_type": "code",
   "execution_count": null,
   "metadata": {},
   "outputs": [],
   "source": []
  },
  {
   "cell_type": "code",
   "execution_count": null,
   "metadata": {},
   "outputs": [],
   "source": []
  },
  {
   "cell_type": "code",
   "execution_count": null,
   "metadata": {},
   "outputs": [],
   "source": []
  },
  {
   "cell_type": "code",
   "execution_count": null,
   "metadata": {},
   "outputs": [],
   "source": []
  },
  {
   "cell_type": "code",
   "execution_count": null,
   "metadata": {},
   "outputs": [],
   "source": []
  },
  {
   "cell_type": "code",
   "execution_count": null,
   "metadata": {},
   "outputs": [],
   "source": []
  },
  {
   "cell_type": "code",
   "execution_count": null,
   "metadata": {},
   "outputs": [],
   "source": []
  },
  {
   "cell_type": "code",
   "execution_count": null,
   "metadata": {},
   "outputs": [],
   "source": []
  },
  {
   "cell_type": "code",
   "execution_count": null,
   "metadata": {},
   "outputs": [],
   "source": []
  },
  {
   "cell_type": "code",
   "execution_count": null,
   "metadata": {},
   "outputs": [],
   "source": []
  },
  {
   "cell_type": "code",
   "execution_count": null,
   "metadata": {},
   "outputs": [],
   "source": []
  },
  {
   "cell_type": "code",
   "execution_count": null,
   "metadata": {},
   "outputs": [],
   "source": []
  },
  {
   "cell_type": "code",
   "execution_count": null,
   "metadata": {},
   "outputs": [],
   "source": []
  },
  {
   "cell_type": "code",
   "execution_count": null,
   "metadata": {},
   "outputs": [],
   "source": []
  },
  {
   "cell_type": "code",
   "execution_count": null,
   "metadata": {},
   "outputs": [],
   "source": []
  },
  {
   "cell_type": "code",
   "execution_count": null,
   "metadata": {},
   "outputs": [],
   "source": []
  }
 ],
 "metadata": {
  "colab": {
   "collapsed_sections": [],
   "provenance": []
  },
  "kernelspec": {
   "display_name": "Python 3 (ipykernel)",
   "language": "python",
   "name": "python3"
  },
  "language_info": {
   "codemirror_mode": {
    "name": "ipython",
    "version": 3
   },
   "file_extension": ".py",
   "mimetype": "text/x-python",
   "name": "python",
   "nbconvert_exporter": "python",
   "pygments_lexer": "ipython3",
   "version": "3.9.13"
  }
 },
 "nbformat": 4,
 "nbformat_minor": 1
}
