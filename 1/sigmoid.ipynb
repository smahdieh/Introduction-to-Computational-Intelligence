{
 "cells": [
  {
   "cell_type": "markdown",
   "id": "8ddfa92b",
   "metadata": {},
   "source": [
    "# Experiment 1: Sigmoid Function\n",
    "***"
   ]
  },
  {
   "cell_type": "markdown",
   "id": "f6bdff64",
   "metadata": {},
   "source": [
    "## Importing Libraries"
   ]
  },
  {
   "cell_type": "code",
   "execution_count": 1,
   "id": "820f1064",
   "metadata": {},
   "outputs": [],
   "source": [
    "import numpy as np\n",
    "import math"
   ]
  },
  {
   "cell_type": "markdown",
   "id": "48b38293",
   "metadata": {},
   "source": [
    "## Sigmoid Function"
   ]
  },
  {
   "cell_type": "markdown",
   "id": "eb5afe84",
   "metadata": {},
   "source": [
    "### $ f(x) = \\frac{2}{1 + exp(-x)} - 1 $"
   ]
  },
  {
   "cell_type": "code",
   "execution_count": 2,
   "id": "49af16b0",
   "metadata": {},
   "outputs": [],
   "source": [
    "def sigmoid(x):\n",
    "    \n",
    "    f_x = 2 / (1 + math.exp(-x)) - 1\n",
    "    return f_x"
   ]
  },
  {
   "cell_type": "markdown",
   "id": "6e572536",
   "metadata": {},
   "source": [
    "## Derivative of the Sigmoid function"
   ]
  },
  {
   "cell_type": "markdown",
   "id": "7e335879",
   "metadata": {},
   "source": [
    "### $ \\dot f(x) = \\frac{2exp(-x)}{(1 + exp(-x))^2} = \\frac{1 - (f(x))^2}{2} $"
   ]
  },
  {
   "cell_type": "code",
   "execution_count": 3,
   "id": "f9838d7b",
   "metadata": {},
   "outputs": [],
   "source": [
    "def diff_sigmoid(x):\n",
    "    \n",
    "    df_x = 2 * math.exp(-x) / ((1 + math.exp(-x)) ** 2)\n",
    "    return df_x"
   ]
  },
  {
   "cell_type": "markdown",
   "id": "926981c7",
   "metadata": {},
   "source": [
    "## Sigmatrix"
   ]
  },
  {
   "cell_type": "markdown",
   "id": "bc12d343",
   "metadata": {},
   "source": [
    "### $ Output1 = \\sum_{i = 1}^n \\sum_{j = 1}^m sigmoid(A_{ij}) $\n",
    "### $ Output2 = \\sum_{i = 1}^n \\sum_{j = 1}^m \\dot {sigmoid}(A_{ij}) $"
   ]
  },
  {
   "cell_type": "code",
   "execution_count": 4,
   "id": "a9d8712c",
   "metadata": {},
   "outputs": [],
   "source": [
    "def sigmatrix(n, m, A):\n",
    "    \n",
    "    out1 = 0\n",
    "    out2 = 0\n",
    "    \n",
    "    for i in range(n):\n",
    "        for j in range(m):\n",
    "            out1 += sigmoid(A[i][j])\n",
    "            out2 += diff_sigmoid(A[i][j])\n",
    "    return out1, out2"
   ]
  },
  {
   "cell_type": "markdown",
   "id": "4fedba0b",
   "metadata": {},
   "source": [
    "## Input"
   ]
  },
  {
   "cell_type": "code",
   "execution_count": 5,
   "id": "333e0abf",
   "metadata": {},
   "outputs": [
    {
     "name": "stdout",
     "output_type": "stream",
     "text": [
      "Please enter number of rows: 3\n",
      "Please enter number of columns: 3\n"
     ]
    }
   ],
   "source": [
    "R = int(input(\"Please enter number of rows: \"))\n",
    "C = int(input(\"Please enter number of columns: \"))"
   ]
  },
  {
   "cell_type": "code",
   "execution_count": 6,
   "id": "bfe74b32",
   "metadata": {},
   "outputs": [
    {
     "name": "stdout",
     "output_type": "stream",
     "text": [
      "Enter 1th row: 0 0 0\n",
      "Enter 2th row: 1 1 1\n",
      "Enter 3th row: 2 2 2\n"
     ]
    }
   ],
   "source": [
    "matrix = []\n",
    "for i in range(R):\n",
    "    a = list(map(int, input(f\"Enter {i + 1}th row: \").split()))\n",
    "    matrix.append(a)"
   ]
  },
  {
   "cell_type": "markdown",
   "id": "51c0c7b4",
   "metadata": {},
   "source": [
    "## Output"
   ]
  },
  {
   "cell_type": "code",
   "execution_count": 7,
   "id": "34f1426f",
   "metadata": {},
   "outputs": [
    {
     "name": "stdout",
     "output_type": "stream",
     "text": [
      "First Output & Second Output:  (3.671133939647323, 3.30963311186993)\n"
     ]
    }
   ],
   "source": [
    "print(\"First Output & Second Output: \", sigmatrix(R, C, matrix))"
   ]
  },
  {
   "cell_type": "code",
   "execution_count": 8,
   "id": "0f93dc36",
   "metadata": {},
   "outputs": [
    {
     "data": {
      "text/plain": [
       "array([[1.        , 0.        , 0.70710678],\n",
       "       [0.        , 1.        , 1.        ],\n",
       "       [1.        , 0.        , 1.        ]])"
      ]
     },
     "execution_count": 8,
     "metadata": {},
     "output_type": "execute_result"
    }
   ],
   "source": [
    "M = np.array([[1, 0, math.sin(math.pi / 4)],\n",
    "     [0, 1, math.sin(math.pi / 2)],\n",
    "     [1, 0, 1]])\n",
    "M"
   ]
  },
  {
   "cell_type": "code",
   "execution_count": 9,
   "id": "8e04ccba",
   "metadata": {},
   "outputs": [
    {
     "data": {
      "text/plain": [
       "(2.6501088849533625, 3.9084813651552452)"
      ]
     },
     "execution_count": 9,
     "metadata": {},
     "output_type": "execute_result"
    }
   ],
   "source": [
    "sigmatrix(3, 3, M)"
   ]
  }
 ],
 "metadata": {
  "kernelspec": {
   "display_name": "Python 3 (ipykernel)",
   "language": "python",
   "name": "python3"
  },
  "language_info": {
   "codemirror_mode": {
    "name": "ipython",
    "version": 3
   },
   "file_extension": ".py",
   "mimetype": "text/x-python",
   "name": "python",
   "nbconvert_exporter": "python",
   "pygments_lexer": "ipython3",
   "version": "3.9.12"
  }
 },
 "nbformat": 4,
 "nbformat_minor": 5
}
