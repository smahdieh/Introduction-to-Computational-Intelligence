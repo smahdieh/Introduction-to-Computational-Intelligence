{
 "cells": [
  {
   "cell_type": "markdown",
   "id": "8ddfa92b",
   "metadata": {},
   "source": [
    "# Experiment 1: \n",
    "# practice: tanh Function\n",
    "***"
   ]
  },
  {
   "cell_type": "markdown",
   "id": "f6bdff64",
   "metadata": {},
   "source": [
    "## Importing Libraries"
   ]
  },
  {
   "cell_type": "code",
   "execution_count": 1,
   "id": "820f1064",
   "metadata": {},
   "outputs": [],
   "source": [
    "import numpy as np\n",
    "import math"
   ]
  },
  {
   "cell_type": "markdown",
   "id": "48b38293",
   "metadata": {},
   "source": [
    "## tanh Function"
   ]
  },
  {
   "cell_type": "markdown",
   "id": "eb5afe84",
   "metadata": {},
   "source": [
    "### $ tanh(x) = \\frac{exp(x) - exp(-x)}{exp(x) + exp(-x)}  $"
   ]
  },
  {
   "cell_type": "code",
   "execution_count": 2,
   "id": "49af16b0",
   "metadata": {},
   "outputs": [],
   "source": [
    "def tanh(x):\n",
    "    \n",
    "    f_x = (math.exp(x) - math.exp(-x)) / (math.exp(x) + math.exp(-x))\n",
    "    return f_x"
   ]
  },
  {
   "cell_type": "markdown",
   "id": "926981c7",
   "metadata": {},
   "source": [
    "## tanhmatrix"
   ]
  },
  {
   "cell_type": "markdown",
   "id": "bc12d343",
   "metadata": {},
   "source": [
    "### $ Output = \\sum_{i = 1}^n \\sum_{j = 1}^m tanh(A_{ij}) $"
   ]
  },
  {
   "cell_type": "code",
   "execution_count": 3,
   "id": "a9d8712c",
   "metadata": {},
   "outputs": [],
   "source": [
    "def tanhmatrix(n, m, A):\n",
    "    \n",
    "    out = 0\n",
    "    \n",
    "    for i in range(n):\n",
    "        for j in range(m):\n",
    "            out += math.tanh(A[i][j])\n",
    "    return out"
   ]
  },
  {
   "cell_type": "markdown",
   "id": "4fedba0b",
   "metadata": {},
   "source": [
    "## Input"
   ]
  },
  {
   "cell_type": "code",
   "execution_count": 4,
   "id": "333e0abf",
   "metadata": {},
   "outputs": [
    {
     "name": "stdout",
     "output_type": "stream",
     "text": [
      "Please enter number of rows: 3\n",
      "Please enter number of columns: 3\n"
     ]
    }
   ],
   "source": [
    "R = int(input(\"Please enter number of rows: \"))\n",
    "C = int(input(\"Please enter number of columns: \"))"
   ]
  },
  {
   "cell_type": "code",
   "execution_count": 5,
   "id": "bfe74b32",
   "metadata": {},
   "outputs": [
    {
     "name": "stdout",
     "output_type": "stream",
     "text": [
      "Enter 1th row: 0 0 0\n",
      "Enter 2th row: 1 1 1\n",
      "Enter 3th row: 2 2 2\n"
     ]
    }
   ],
   "source": [
    "matrix = []\n",
    "for i in range(R):\n",
    "    a = list(map(int, input(f\"Enter {i + 1}th row: \").split()))\n",
    "    matrix.append(a)"
   ]
  },
  {
   "cell_type": "markdown",
   "id": "51c0c7b4",
   "metadata": {},
   "source": [
    "## Output"
   ]
  },
  {
   "cell_type": "code",
   "execution_count": 6,
   "id": "34f1426f",
   "metadata": {},
   "outputs": [
    {
     "name": "stdout",
     "output_type": "stream",
     "text": [
      "First Output:  5.176865208094744\n"
     ]
    }
   ],
   "source": [
    "print(\"First Output: \", tanhmatrix(R, C, matrix))"
   ]
  },
  {
   "cell_type": "code",
   "execution_count": 7,
   "id": "0f93dc36",
   "metadata": {},
   "outputs": [
    {
     "data": {
      "text/plain": [
       "array([[1.        , 0.        , 0.70710678],\n",
       "       [0.        , 1.        , 1.        ],\n",
       "       [1.        , 0.        , 1.        ]])"
      ]
     },
     "execution_count": 7,
     "metadata": {},
     "output_type": "execute_result"
    }
   ],
   "source": [
    "M = np.array([[1, 0, math.sin(math.pi / 4)],\n",
    "     [0, 1, math.sin(math.pi / 2)],\n",
    "     [1, 0, 1]])\n",
    "M"
   ]
  },
  {
   "cell_type": "code",
   "execution_count": 8,
   "id": "8e04ccba",
   "metadata": {},
   "outputs": [
    {
     "data": {
      "text/plain": [
       "4.416830144792739"
      ]
     },
     "execution_count": 8,
     "metadata": {},
     "output_type": "execute_result"
    }
   ],
   "source": [
    "tanhmatrix(3, 3, M)"
   ]
  }
 ],
 "metadata": {
  "kernelspec": {
   "display_name": "Python 3 (ipykernel)",
   "language": "python",
   "name": "python3"
  },
  "language_info": {
   "codemirror_mode": {
    "name": "ipython",
    "version": 3
   },
   "file_extension": ".py",
   "mimetype": "text/x-python",
   "name": "python",
   "nbconvert_exporter": "python",
   "pygments_lexer": "ipython3",
   "version": "3.9.12"
  }
 },
 "nbformat": 4,
 "nbformat_minor": 5
}
